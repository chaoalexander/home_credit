{
 "cells": [
  {
   "cell_type": "markdown",
   "id": "6a8e1718-6b1f-4278-ba30-72430b775129",
   "metadata": {},
   "source": [
    "## Home Credit"
   ]
  },
  {
   "cell_type": "markdown",
   "id": "0c9b45cb",
   "metadata": {},
   "source": [
    "**将问题框架化并关注重点**\n",
    "\n",
    "1. 用业务术语定义目标\n",
    "    * 预测给定信息用户的还款能力，以概率的方式\n",
    "2. 你的解决方案将如何使用？\n",
    "    * 用来预测未来贷款申请客户的好坏，作为申请决策辅助依据。\n",
    "3. 目前的解决方案/解决方法（如果有的话）是什么？\n",
    "    * 未知\n",
    "4. 你应该如何解决这个问题（监督/非监督，在线/离线等）？\n",
    "    * 使用监督学习，回归问题，label中‘0’表示好人，‘1’表示坏人，给出的数介于两者之间，清洗好特征后，多模型测试\n",
    "5. 如何度量模型的表现？\n",
    "    * 使用roc下的面积\n",
    "6. 模型的表现是否和业务目标一致？\n",
    "    * 纯模型训练，无实际业务目标，暂且认为一致\n",
    "7. 达到业务目标所需的最低性能是多少？\n",
    "    * 未知，一般任务auc=0.75\n",
    "8. 类似的问题如何解决？是否可以复用经验或工具？\n",
    "    * pass\n",
    "9. 人员是否专业？\n",
    "    * pass\n",
    "10. 你如何动手解决问题？\n",
    "    * pass\n",
    "11. 列出目前你（或者其他人）所做的假设\n",
    "    * pass\n",
    "12. 如果可能，验证假设。\n",
    "\n",
    "---\n",
    "\n",
    "观察到的点：\n",
    "\n",
    "1. 这个比赛最难的地方是对数据的理解，给出的7张表字段很多，但是解释却很简单，很多字段的值也意义不明，很难在此基础上加工新特征，需要一定的时间和金融业务知识理解数据\n",
    "2. 这个比赛对于新手比较友好，有很多比较好的notebook可以参考，例如[Gentle Introduction](https://www.kaggle.com/code/willkoehrsen/start-here-a-gentle-introduction/notebook) [LightGBM with Simple Features](https://www.kaggle.com/code/jsaguiar/lightgbm-with-simple-features?scriptVersionId=6025993)\n",
    "3. 总体来看，给出的数据可以分4个部分，时间 金额 笔数 其他\n",
    "4. 猜测有一些预测力比较高的变量，例如EXT_SOURCE_2，可能是购买的外部数据，例如FICO分之类的东西，FLAG_DOCUMENT_3变量可能是收入证明之类的东西\n",
    "5. Bureau类似解析征信报告得到的数据，例如一个人申请了多笔贷款，有房贷 车贷 抵押贷等，那么它在这个表中就有多条数据，Bureau_balance类似征信报告中每条贷款的附加标记数据，如果一个人在Bureau表中没有数据，要么这个人从未贷过款，要么借贷的渠道没有上报数据\n",
    "6. 工程量最大的是针对每个表加工变量，需要将多条数据聚合成有意义的 申请人粒度的单条数据，中间需要做大量数据探索的工作，如果可能可以将数据导入数据库中加工计算\n",
    "7. 发现有一些时间样本的值为值为365243.0，明显异常，根据[官方给出的解释](https://www.kaggle.com/c/home-credit-default-risk/discussion/57248)\n"
   ]
  },
  {
   "cell_type": "code",
   "execution_count": 73,
   "id": "2426136c-c0c6-4783-af5b-2334bfb91c06",
   "metadata": {},
   "outputs": [],
   "source": [
    "from IPython.core.interactiveshell import InteractiveShell\n",
    "InteractiveShell.ast_node_interactivity = \"all\"\n",
    "\n",
    "%matplotlib inline\n",
    "import matplotlib.pyplot as plt\n",
    "import numpy as np\n",
    "\n",
    "import pandas as pd\n",
    "pd.set_option('display.max_columns', None)\n",
    "pd.set_option('display.max_rows', None)\n",
    "\n",
    "import warnings\n",
    "warnings.filterwarnings('ignore')"
   ]
  },
  {
   "cell_type": "markdown",
   "id": "87fe733e",
   "metadata": {},
   "source": [
    "**获取数据**\n",
    "\n",
    "注意：尽可能自动化，以便你轻松获取新数据。\n",
    "\n",
    "1. 列出你需要的数据和数据量。\n",
    "    * 已给定\n",
    "2. 查找并记录你可以获取该数据的位置。\n",
    "    * pass\n",
    "3. 检查它将占用多少存储空间。\n",
    "    * 2.5G\n",
    "4. 检查法律义务并在必要时获取授权。\n",
    "    *  开放数据集，无需授权\n",
    "5. 获取访问权限。\n",
    "    * kaggle\n",
    "6. 创建工作目录（拥有足够的存储空间）。\n",
    "    * pass\n",
    "7. 获取数据。\n",
    "    * 如下\n",
    "8. 将数据转换为你可以轻松操作的格式（不更改数据本身）。\n",
    "    * pass\n",
    "9. 确保删除或保护敏感信息（比如，匿名）。\n",
    "    * 数据集本身已处理\n",
    "10. 检查数据的大小和类型（时间序列，样本，地理信息等）。\n",
    "    * 如下\n",
    "11. 抽样出测试集，将它放在一边，以后不需要关注它（没有数据窥探！）。\n",
    "    * 如下\n",
    "\n",
    "---"
   ]
  },
  {
   "cell_type": "code",
   "execution_count": 13,
   "id": "a519e89c",
   "metadata": {},
   "outputs": [],
   "source": [
    "# 使用kaggle命令获取数据并解压\n",
    "# &&kaggle competitions download -c home-credit-default-risk\\\n",
    "# &&mkdir data&&unzip *.zip -d ./data/"
   ]
  },
  {
   "cell_type": "code",
   "execution_count": 14,
   "id": "bda9e9d7",
   "metadata": {},
   "outputs": [],
   "source": [
    "# 查看数据占用空间 \n",
    "!du -sh ./data/"
   ]
  },
  {
   "cell_type": "code",
   "execution_count": 15,
   "id": "3f58818e",
   "metadata": {},
   "outputs": [],
   "source": [
    "def load_data(data_set_name:str):\n",
    "    return pd.read_csv('./data/{}.csv'.format(data_set_name))"
   ]
  },
  {
   "cell_type": "code",
   "execution_count": 16,
   "id": "8fed4f73",
   "metadata": {},
   "outputs": [],
   "source": [
    "application = load_data('application_train')\n",
    "# application_test = load_data('application_test')\n",
    "application.shape\n",
    "# application.columns.difference(application_test.columns)\n",
    "# application_test.shape\n",
    "# del application_test"
   ]
  },
  {
   "cell_type": "code",
   "execution_count": 17,
   "id": "a52a4c14",
   "metadata": {},
   "outputs": [],
   "source": [
    "def reduce_mem_usage(df, ignore_cols=['SK_ID_CURR','SK_ID_BUREAU','SK_ID_PREV']):\n",
    "    \"\"\"在不损失数据信息的情况下，通过转换数字数据类型来减少数据帧的内存使用\"\"\"\n",
    "    # 初始化数据框的内存使用\n",
    "    start_mem = df.memory_usage().sum() / 1024**2\n",
    "    print('初始内存使用: {:.2f} MB'.format(start_mem))\n",
    "    # 剔除特定列\n",
    "    cols = [ col for col in df.columns if col not in ignore_cols]\n",
    "    # 遍历每一列\n",
    "    for col in cols:\n",
    "        col_type = df[col].dtype\n",
    "        \n",
    "        # 如果数据类型是整数类型\n",
    "        if col_type != object and col_type.name != 'category' and 'datetime' not in col_type.name:\n",
    "            c_min = df[col].min()\n",
    "            c_max = df[col].max()\n",
    "            \n",
    "            # 如果最小值和最大值都可以用更小的数据类型表示\n",
    "            if str(col_type)[:3] == 'int' and c_min >= np.iinfo(np.int8).min and c_max <= np.iinfo(np.int8).max:\n",
    "                df[col] = df[col].astype(np.int8)\n",
    "            elif str(col_type)[:3] == 'int' and c_min >= np.iinfo(np.int16).min and c_max <= np.iinfo(np.int16).max:\n",
    "                df[col] = df[col].astype(np.int16)\n",
    "            elif str(col_type)[:3] == 'int' and c_min >= np.iinfo(np.int32).min and c_max <= np.iinfo(np.int32).max:\n",
    "                df[col] = df[col].astype(np.int32)\n",
    "            elif str(col_type)[:3] == 'int' and c_min >= np.iinfo(np.int64).min and c_max <= np.iinfo(np.int64).max:\n",
    "                df[col] = df[col].astype(np.int64)\n",
    "            \n",
    "            # 如果最小值和最大值都可以用更小的数据类型表示\n",
    "            elif str(col_type)[:5] == 'float' and c_min >= np.finfo(np.float16).min and c_max <= np.finfo(np.float16).max:\n",
    "                df[col] = df[col].astype(np.float16)\n",
    "            elif str(col_type)[:5] == 'float' and c_min >= np.finfo(np.float32).min and c_max <= np.finfo(np.float32).max:\n",
    "                df[col] = df[col].astype(np.float32)\n",
    "            else:\n",
    "                pass\n",
    "\n",
    "    # 输出优化后的内存使用\n",
    "    end_mem = df.memory_usage().sum() / 1024**2\n",
    "    print('优化后的内存使用: {:.2f} MB'.format(end_mem))\n",
    "    return df"
   ]
  },
  {
   "cell_type": "code",
   "execution_count": 18,
   "id": "bfb51236",
   "metadata": {},
   "outputs": [],
   "source": [
    "application = reduce_mem_usage(application)"
   ]
  },
  {
   "cell_type": "markdown",
   "id": "1e01776f",
   "metadata": {},
   "source": [
    "**快速看一眼数据**"
   ]
  },
  {
   "cell_type": "code",
   "execution_count": 19,
   "id": "77eb17ec",
   "metadata": {},
   "outputs": [],
   "source": [
    "application.info()"
   ]
  },
  {
   "cell_type": "code",
   "execution_count": 20,
   "id": "91e6b013",
   "metadata": {},
   "outputs": [],
   "source": [
    "def trans_inf_days(df):\n",
    "    # 雇佣时长是否有极大值\n",
    "    df['isinf_DAYS_EMPLOYED'] = df['DAYS_EMPLOYED'].where(df['DAYS_EMPLOYED'] == 365243.0,0).where(df['DAYS_EMPLOYED'] != 365243.0,1)\n",
    "    # 将雇佣时长极大值替换成空\n",
    "    df['DAYS_EMPLOYED'] = df['DAYS_EMPLOYED'].where(df['DAYS_EMPLOYED'] != 365243.0, np.nan)\n",
    "    return df\n",
    "application = trans_inf_days(application)"
   ]
  },
  {
   "cell_type": "markdown",
   "id": "d0f58c2d",
   "metadata": {},
   "source": [
    "**创建测试集**\n",
    "\n",
    "因为kaggle比赛的application_test没有target，无法测量ROC下的面积，所以丢弃不用，切分application_train为训练集和测试集\n",
    "\n",
    "在切分数据集的时候有多种策略可以选择，一般而言，可以随机切分 也可以分层切分，在本场景下，数据集比较大，坏样本相对较多，所以随机切；"
   ]
  },
  {
   "cell_type": "markdown",
   "id": "79874462",
   "metadata": {},
   "source": [
    "**随机切分**"
   ]
  },
  {
   "cell_type": "code",
   "execution_count": 21,
   "id": "d45a3b11",
   "metadata": {},
   "outputs": [],
   "source": [
    "from sklearn.model_selection import train_test_split\n",
    "\n",
    "train_set, test_set = train_test_split(application, test_size=0.2, random_state= 42)"
   ]
  },
  {
   "cell_type": "markdown",
   "id": "efb2a37d",
   "metadata": {},
   "source": [
    "**探索数据**\n",
    "\n",
    "注意：尝试从领域专家那获取有关这些步骤的见解。\n",
    "\n",
    "1. 创建用于探索的数据副本（如有必要，将其取样为可管理的大小）。\n",
    "2. 创建一个 Jupyter 笔记本来记录你的数据探索。\n",
    "3. 研究每个属性及其特征：\n",
    "  * 名称；\n",
    "  * 类型（分类，整数/浮点数，有界/无界，文本，结构化数据等）；\n",
    "  * 缺失数据的百分比；\n",
    "  * 噪声点和它的类型（随机点，异常点，舍入误差等）；\n",
    "  * 对任务可能有用吗？\n",
    "  * 分布类型（高斯分布，均匀分布，对数分布等）。\n",
    "4. 对于监督学习任务，确定目标属性。\n",
    "5. 可视化数据。\n",
    "6. 研究属性间的相关性。\n",
    "7. 研究怎如何手动解决问题。\n",
    "8. 确定你想要应用的有效的转换。\n",
    "9. 确定有用的额外数据（回到上一步）。\n",
    "10. 记录你所学到的知识。\n"
   ]
  },
  {
   "cell_type": "markdown",
   "id": "9a558c01",
   "metadata": {},
   "source": [
    "## EDA"
   ]
  },
  {
   "cell_type": "code",
   "execution_count": 22,
   "id": "874f657a",
   "metadata": {},
   "outputs": [],
   "source": [
    "app = train_set.copy()"
   ]
  },
  {
   "cell_type": "code",
   "execution_count": 23,
   "id": "9184f3fd",
   "metadata": {},
   "outputs": [],
   "source": [
    "app.dtypes.value_counts()"
   ]
  },
  {
   "cell_type": "code",
   "execution_count": 24,
   "id": "3e83c0d8",
   "metadata": {},
   "outputs": [],
   "source": [
    "def missing_values_summary(df):\n",
    "    mis_val = df.isnull().sum()\n",
    "    mis_val_percent = 100*df.isnull().sum() / len(df)\n",
    "    mis_val_table =pd.concat([mis_val, mis_val_percent], axis=1)   \n",
    "    mis_val_table_ren_columns = mis_val_table.rename(\n",
    "        columns = {0 : 'Missing Values', 1 : '% of Total Values'})\n",
    "    mis_val_table_ren_columns = mis_val_table_ren_columns[mis_val_table_ren_columns.iloc[:,1] !=0].sort_values(\n",
    "    '% of Total Values', ascending = False).round(1)\n",
    "    mis_val_table_ren_columns = mis_val_table_ren_columns.merge(df.dtypes.rename('dtypes').to_frame(),left_index=True, right_index=True)\n",
    "    print('Your selected dataframe has ' + str(df.shape[1])+ ' columns.\\n'\n",
    "         \"There are \" + str(mis_val_table_ren_columns.shape[0])+ ' columns that have missing values.')\n",
    "    return mis_val_table_ren_columns"
   ]
  },
  {
   "cell_type": "code",
   "execution_count": 25,
   "id": "1814f8f9",
   "metadata": {},
   "outputs": [],
   "source": [
    "missing_values_summary(app)"
   ]
  },
  {
   "cell_type": "markdown",
   "id": "6bf7c812",
   "metadata": {},
   "source": [
    "-----\n",
    "\n",
    "**简单筛选一下特征**"
   ]
  },
  {
   "cell_type": "code",
   "execution_count": 26,
   "id": "f1563f5b",
   "metadata": {},
   "outputs": [],
   "source": [
    "# 筛选特征\n",
    "cate_cols = []\n",
    "num_cols = []"
   ]
  },
  {
   "cell_type": "code",
   "execution_count": 27,
   "id": "8607f257",
   "metadata": {},
   "outputs": [],
   "source": [
    "# 将类别属性放进去\n",
    "cate_cols.extend(app.dtypes[app.dtypes == 'object'].index.tolist())"
   ]
  },
  {
   "cell_type": "code",
   "execution_count": 28,
   "id": "0a94946c",
   "metadata": {},
   "outputs": [],
   "source": [
    "def select_low_cardinality_numeric_features(df, label_col, threshold=5):\n",
    "    \"\"\"\n",
    "    挑选出除了 label_col 以外的数值型特征，并判断其唯一值数是否低于 threshold，\n",
    "    如果是，则将该特征的名称加入到列表 low_cardinality_feats 中返回。\n",
    "\n",
    "    Parameters:\n",
    "    ----------\n",
    "    df: pandas.DataFrame\n",
    "        数据表，包含了特征和目标变量\n",
    "    label_col: str\n",
    "        目标变量的名称\n",
    "    threshold: int\n",
    "        指定唯一值数量的阈值，低于该值的特征将被视为“唯一值较少的特征”，默认值为 5。\n",
    "\n",
    "    Returns:\n",
    "    ----------\n",
    "    low_cardinality_feats: list\n",
    "        唯一值较少的数值型特征的名称列表\n",
    "    \"\"\"\n",
    "    numeric_feats = df.select_dtypes(include='number').columns.tolist()\n",
    "    low_cardinality_feats = []\n",
    "    for feat in numeric_feats:\n",
    "        if feat == label_col:\n",
    "            continue\n",
    "        if df[feat].nunique() <= threshold:\n",
    "            low_cardinality_feats.append(feat)\n",
    "    return low_cardinality_feats\n"
   ]
  },
  {
   "cell_type": "code",
   "execution_count": 29,
   "id": "6aa477a8",
   "metadata": {},
   "outputs": [],
   "source": [
    "# 将唯一值少于5个的数值型变量也放进去\n",
    "cate_cols.extend(select_low_cardinality_numeric_features(app, 'TARGET'))"
   ]
  },
  {
   "cell_type": "code",
   "execution_count": 30,
   "id": "5361678a",
   "metadata": {},
   "outputs": [],
   "source": [
    "num_cols.extend(app.columns.difference(cate_cols))"
   ]
  },
  {
   "cell_type": "code",
   "execution_count": 31,
   "id": "fc54ac26",
   "metadata": {},
   "outputs": [],
   "source": [
    "num_cols.remove('TARGET')"
   ]
  },
  {
   "cell_type": "code",
   "execution_count": 32,
   "id": "44f2dd2a",
   "metadata": {},
   "outputs": [],
   "source": [
    "cat_cols_object = app[cate_cols].select_dtypes(include=['object']).columns\n",
    "cat_cols_number = app[cate_cols].select_dtypes(include=['number']).columns\n",
    "del app"
   ]
  },
  {
   "cell_type": "markdown",
   "id": "53d465b6",
   "metadata": {},
   "source": [
    "---"
   ]
  },
  {
   "cell_type": "markdown",
   "id": "cde9fec4",
   "metadata": {},
   "source": [
    "**准备数据**\n",
    "\n",
    "注意：\n",
    "* 处理数据副本（保持原始数据集完整）。\n",
    "* 为你应用的所有数据转换编写函数，原因有五：\n",
    "    * 你可以在下次获得新数据集时轻松准备数据\n",
    "    * 你可以在未来的项目中应用这些转换\n",
    "    * 用来清洗和准备测试数据集\n",
    "    * 一旦项目上线你可以用来清洗和准备新的数据集\n",
    "    * 为了便于将你的准备选择视为超参数\n",
    "\n",
    "1. 数据清洗：\n",
    "    * 修正或移除异常值（可选）。\n",
    "    * 填补缺失值（比如用零，平均值，中位数等）或者删除所在行（或者列）。\n",
    "2. 特征提取（可选）：\n",
    "    * 丢弃不提供有用信息的属性；\n",
    "3. 适当的特征工程：\n",
    "    * 连续特征离散化。\n",
    "    * 分解特征（比如分类，日期/时间等）。\n",
    "    * 对特征添加有益的转换（比如 log(x)，sqrt(x)，x^2 等）\n",
    "    * 将一些特征融合为有益的新特征\n",
    "4. 特征缩放：\n",
    "    * 标准化或者正规化特征。"
   ]
  },
  {
   "cell_type": "markdown",
   "id": "6cca1fcb",
   "metadata": {},
   "source": [
    "**准备数据副本**"
   ]
  },
  {
   "cell_type": "code",
   "execution_count": 33,
   "id": "a9ec0c10",
   "metadata": {},
   "outputs": [],
   "source": [
    "app = train_set.drop('TARGET', axis=1)\n",
    "app_labels = train_set['TARGET'].copy()"
   ]
  },
  {
   "cell_type": "code",
   "execution_count": 34,
   "id": "c06a692c",
   "metadata": {},
   "outputs": [],
   "source": [
    "app.shape"
   ]
  },
  {
   "cell_type": "markdown",
   "id": "a937e485",
   "metadata": {},
   "source": [
    "**数据清洗**\n",
    "\n",
    "1. 上面已经列清楚了哪些列有缺失值，分析具体情况进行填充\n",
    "2. 针对数值型的列，使用具体情况具体分析进行填充，一般来说，数据服从正态分布，使用均值；不服从使用中位数，如果是离散的数据点，可以使用众数；如果缺失较少，使用均值或者中位数，可以保证数据整体分布，缺失较多，可以使用众数，分布更加稳定\n",
    "3. 针对对象型，使用特殊标记‘UKN’进行填充"
   ]
  },
  {
   "cell_type": "markdown",
   "id": "c0a1661c",
   "metadata": {},
   "source": [
    "## Pipline"
   ]
  },
  {
   "cell_type": "code",
   "execution_count": 35,
   "id": "32f6d367",
   "metadata": {},
   "outputs": [],
   "source": [
    "from sklearn.impute import SimpleImputer\n",
    "from sklearn.preprocessing import StandardScaler,OneHotEncoder,FunctionTransformer\n",
    "from sklearn.pipeline import make_pipeline\n",
    "from sklearn.compose import ColumnTransformer"
   ]
  },
  {
   "cell_type": "code",
   "execution_count": 36,
   "id": "e12b2121",
   "metadata": {},
   "outputs": [],
   "source": [
    "import sklearn\n",
    "sklearn.set_config(display=\"diagram\")"
   ]
  },
  {
   "cell_type": "code",
   "execution_count": 37,
   "id": "2fd37873",
   "metadata": {},
   "outputs": [],
   "source": [
    "num_pipeline = make_pipeline(\n",
    "                SimpleImputer(strategy='median'),\n",
    "                StandardScaler()\n",
    "                )"
   ]
  },
  {
   "cell_type": "code",
   "execution_count": 38,
   "id": "94edb0a0",
   "metadata": {},
   "outputs": [],
   "source": [
    "cat_number_pipeline = make_pipeline(\n",
    "                FunctionTransformer(lambda X: X.astype(str),feature_names_out='one-to-one'),\n",
    "                SimpleImputer(strategy='constant', fill_value='UKN'),\n",
    "                OneHotEncoder(handle_unknown='ignore')\n",
    ")"
   ]
  },
  {
   "cell_type": "code",
   "execution_count": 39,
   "id": "8b3a073b",
   "metadata": {},
   "outputs": [],
   "source": [
    "cat_object_pipeline = make_pipeline(\n",
    "                SimpleImputer(strategy='constant', fill_value='UKN'),\n",
    "                OneHotEncoder(handle_unknown='ignore')\n",
    ")"
   ]
  },
  {
   "cell_type": "code",
   "execution_count": 40,
   "id": "316c3708",
   "metadata": {},
   "outputs": [],
   "source": [
    "processing = ColumnTransformer([\n",
    "    ('num', num_pipeline, num_cols),\n",
    "    ('cate_object',cat_object_pipeline,cat_cols_object),\n",
    "    ('cate_number', cat_number_pipeline, cat_cols_number)\n",
    "], remainder='passthrough')"
   ]
  },
  {
   "cell_type": "code",
   "execution_count": 41,
   "id": "f2815b55",
   "metadata": {},
   "outputs": [],
   "source": [
    "app_transform = processing.fit_transform(app)"
   ]
  },
  {
   "cell_type": "code",
   "execution_count": 42,
   "id": "b5e762bc",
   "metadata": {},
   "outputs": [],
   "source": [
    "app_transform.shape"
   ]
  },
  {
   "cell_type": "code",
   "execution_count": 43,
   "id": "7d5cdd34",
   "metadata": {},
   "outputs": [],
   "source": [
    "app_transformed = pd.DataFrame(app_transform, columns=processing.get_feature_names_out())"
   ]
  },
  {
   "cell_type": "markdown",
   "id": "4f81c067",
   "metadata": {},
   "source": [
    "**列出有用模型**\n",
    "\n",
    "注意：\n",
    "\n",
    "  * 如果数据量巨大，你可能需要采样出较小的训练集，以便在合理的时间内训练许多不同的模型（请注意，这会对诸如大型神经网络或随机森林等复杂模型进行处罚）。\n",
    "  * 再次尝试尽可能自动化这些步骤。\n",
    "\n",
    "1. 使用标准参数训练许多快速、粗糙的模型（比如线性模型，朴素贝叶斯模型，支持向量机模型，随机森林模型，神经网络等）。\n",
    "2. 衡量并比较他们的表现。\n",
    "  * 对于每个模型，使用 N 折交叉验证法，并且计算基于 N 折交叉验证的均值与方差。\n",
    "3. 分析每种算法的最重要变量。\n",
    "4. 分析模型产生的错误类型。\n",
    "  * 人们用什么数据来避免这些错误？\n",
    "5. 进行一轮快速的特征提取和特征工程。\n",
    "6. 对之前的五个步骤进行一两次的快速迭代。\n",
    "7. 列出前三到五名最有用的模型，由其是产生不同类型错误的模型。\n"
   ]
  },
  {
   "cell_type": "code",
   "execution_count": 44,
   "id": "51d973e9",
   "metadata": {},
   "outputs": [],
   "source": [
    "from sklearn.model_selection import StratifiedKFold\n",
    "from sklearn.metrics import roc_auc_score\n",
    "import time\n",
    "\n",
    "\n",
    "def cross_validate_with_feature_importance(models, data, labels, n_folds=5):\n",
    "    skf = StratifiedKFold(n_splits=n_folds, shuffle=True, random_state=42)\n",
    "    \n",
    "    for model_idx, model in enumerate(models):\n",
    "        print(f\"Model {model_idx + 1}: {type(model).__name__}\")\n",
    "        total_feature_importance = None\n",
    "        \n",
    "        for fold, (train_idx, val_idx) in enumerate(skf.split(data, labels)):\n",
    "            print(f\"Fold {fold + 1}\")\n",
    "            X_train, y_train = data.iloc[train_idx], labels.iloc[train_idx].values\n",
    "            X_val, y_val = data.iloc[val_idx], labels.iloc[val_idx].values\n",
    "\n",
    "            start_time = time.time()\n",
    "            model.fit(X_train, y_train)\n",
    "            train_time = time.time() - start_time\n",
    "            print(f\"Training time: {train_time:.2f}s\")\n",
    "\n",
    "            if fold == 0 and train_time > 180:\n",
    "                print(f\"Model training skipped because it took {train_time:.2f}s\")\n",
    "                break\n",
    "\n",
    "            if hasattr(model, \"predict_proba\"):\n",
    "                y_pred = model.predict_proba(X_val)[:, 1]\n",
    "            else:\n",
    "                y_pred = model.predict(X_val)\n",
    "            score = roc_auc_score(y_val, y_pred)\n",
    "            print(f\"Validation ROC AUC score: {score:.4f}\")\n",
    "\n",
    "            if hasattr(model, \"feature_importances_\"):\n",
    "                fold_feature_importance = pd.Series(model.feature_importances_, index=data.columns)\n",
    "                if total_feature_importance is None:\n",
    "                    total_feature_importance = fold_feature_importance\n",
    "                else:\n",
    "                    total_feature_importance += fold_feature_importance\n",
    "\n",
    "        if total_feature_importance is not None:\n",
    "            top_features = total_feature_importance.sort_values(ascending=False)[:10]\n",
    "            print(\"Top 10 most important features:\")\n",
    "            print(top_features)\n"
   ]
  },
  {
   "cell_type": "markdown",
   "id": "915bffc0",
   "metadata": {},
   "source": [
    "## Baseline"
   ]
  },
  {
   "cell_type": "code",
   "execution_count": 45,
   "id": "c3bb59d6",
   "metadata": {},
   "outputs": [],
   "source": [
    "from sklearn.linear_model import LinearRegression,SGDRegressor\n",
    "from sklearn.tree import DecisionTreeRegressor\n",
    "from sklearn.svm import SVR\n",
    "from sklearn.gaussian_process import GaussianProcessRegressor\n",
    "from sklearn.naive_bayes import GaussianNB\n",
    "from sklearn.neural_network import MLPRegressor\n",
    "\n",
    "lr = LinearRegression()\n",
    "sgd = SGDRegressor()\n",
    "tree = DecisionTreeRegressor()\n",
    "svr = SVR()\n",
    "# gpr = GaussianProcessRegressor()\n",
    "gnb = GaussianNB()\n",
    "nn = MLPRegressor()"
   ]
  },
  {
   "cell_type": "code",
   "execution_count": 46,
   "id": "b1f045e5",
   "metadata": {},
   "outputs": [],
   "source": [
    "models = [lr, sgd, tree, gnb, nn]"
   ]
  },
  {
   "cell_type": "code",
   "execution_count": 47,
   "id": "e9750160",
   "metadata": {
    "scrolled": true
   },
   "outputs": [],
   "source": [
    "# cross_validate_with_feature_importance(models, app_transformed, app_labels)"
   ]
  },
  {
   "cell_type": "code",
   "execution_count": 48,
   "id": "cee8cf30",
   "metadata": {},
   "outputs": [],
   "source": [
    "del app,app_transform,app_transformed,app_labels"
   ]
  },
  {
   "cell_type": "markdown",
   "id": "f7024989",
   "metadata": {},
   "source": [
    "先粗略的跑一下模型，不做任何处理，LR：0.74  SGD:0.72  tree:0.53  gnb:0.53  nn:0.71\n",
    "\n",
    "## add more information"
   ]
  },
  {
   "cell_type": "markdown",
   "id": "37783ea0",
   "metadata": {},
   "source": [
    "在生成新特征的时候，变量命名遵循以下规则，方便我们后面快速筛选变量\n",
    "1. 时间相关变量名必须包含'DAYS'\n",
    "2. 金额相关变量名必须包含'AMT'\n",
    "3. 次数相关变量名必须包含'NUM'"
   ]
  },
  {
   "cell_type": "code",
   "execution_count": 49,
   "id": "2a79b0b4",
   "metadata": {},
   "outputs": [],
   "source": [
    "import gc\n",
    "\n",
    "def concat_df_by_name(name_str,all_vars):\n",
    "    df_list = []\n",
    "    keys_to_delete = []  # 存储需要删除的键值对\n",
    "    for var_name, var_value in all_vars.items():\n",
    "        if isinstance(var_value, pd.DataFrame) and name_str in var_name:\n",
    "            df_list.append(var_value)\n",
    "            keys_to_delete.append(var_name)  # 记录需要删除的键\n",
    "    for key in keys_to_delete:  # 在循环结束后删除键值对\n",
    "        del all_vars[key]\n",
    "    if not df_list:\n",
    "        return pd.DataFrame()\n",
    "    result = pd.concat(df_list, axis=1)\n",
    "    gc.collect()\n",
    "    return result"
   ]
  },
  {
   "cell_type": "code",
   "execution_count": 50,
   "id": "8e69c318",
   "metadata": {},
   "outputs": [],
   "source": [
    "def process_bureau():\n",
    "    # bureau表\n",
    "    bureau = load_data('bureau')\n",
    "    bureau = reduce_mem_usage(bureau)\n",
    "\n",
    "    # 剔除17条更新时间明显异常的数据\n",
    "    bureau = bureau[bureau.DAYS_CREDIT_UPDATE <= 0]\n",
    "\n",
    "    # 征信返回总笔数\n",
    "    BUREAU_NUM = bureau[['SK_ID_CURR','SK_ID_BUREAU']].groupby(['SK_ID_CURR']).count().rename(columns={'SK_ID_BUREAU':'BUREAU_NUM'})\n",
    "    # 征信报告中活跃贷款笔数\n",
    "    BUREAU_ACTIVE_NUM = bureau[bureau['CREDIT_ACTIVE']=='Active'][['SK_ID_CURR','SK_ID_BUREAU']].groupby(['SK_ID_CURR']).count().rename(columns={'SK_ID_BUREAU':'BUREAU_ACTIVE_NUM'})\n",
    "    # 征信报告中关闭贷款笔数\n",
    "    BUREAU_COLSED_NUM = bureau[bureau['CREDIT_ACTIVE']=='Closed'][['SK_ID_CURR','SK_ID_BUREAU']].groupby(['SK_ID_CURR']).count().rename(columns={'SK_ID_BUREAU':'BUREAU_Closed_NUM'})\n",
    "    # 征信报告中出售贷款笔数\n",
    "    BUREAU_SOLD_NUM = bureau[bureau['CREDIT_ACTIVE']=='Sold'][['SK_ID_CURR','SK_ID_BUREAU']].groupby(['SK_ID_CURR']).count().rename(columns={'SK_ID_BUREAU':'BUREAU_SOLD_NUM'})\n",
    "    # 征信报告中坏账贷款笔数\n",
    "    BUREAU_BAD_DEBT_NUM = bureau[bureau['CREDIT_ACTIVE']=='Bad debt'][['SK_ID_CURR','SK_ID_BUREAU']].groupby(['SK_ID_CURR']).count().rename(columns={'SK_ID_BUREAU':'BUREAU_BAD_DEBT_NUM'})\n",
    "    # 最早一次贷款距今时长\n",
    "    BUREAU_MINDAYS_APPLICATION = bureau[['SK_ID_CURR','DAYS_CREDIT']].groupby(['SK_ID_CURR']).min().rename(columns={'DAYS_CREDIT':'BUREAU_MINDAYS_APPLICATION'})\n",
    "    # 最近一次贷款距今时长\n",
    "    BUREAU_MAXDAYS_APPLICATION = bureau[['SK_ID_CURR','DAYS_CREDIT']].groupby(['SK_ID_CURR']).max().rename(columns={'DAYS_CREDIT':'BUREAU_MAXDAYS_APPLICATION'})\n",
    "    # 历史上有过逾期的贷款笔数\n",
    "    BUREAU_NUM_OVERDUE = bureau[bureau['CREDIT_DAY_OVERDUE'] > 0][['SK_ID_CURR','CREDIT_DAY_OVERDUE']].groupby(['SK_ID_CURR']).count().rename(columns={'CREDIT_DAY_OVERDUE':'BUREAU_NUM_OVERDUE'})\n",
    "    # 历史上最长逾期天数\n",
    "    BUREAU_MAXDAY_OVERDUE = bureau[bureau['CREDIT_DAY_OVERDUE'] > 0][['SK_ID_CURR','CREDIT_DAY_OVERDUE']].groupby(['SK_ID_CURR']).max().rename(columns={'CREDIT_DAY_OVERDUE':'BUREAU_MAXDAY_OVERDUE'})\n",
    "    # 提前还款的笔数\n",
    "    BUREAU_NUM_PREPAY = bureau[bureau['DAYS_CREDIT_ENDDATE'] > bureau['DAYS_ENDDATE_FACT'] ][['SK_ID_CURR','DAYS_ENDDATE_FACT']].groupby(['SK_ID_CURR']).count().rename(columns={'DAYS_ENDDATE_FACT':'BUREAU_NUM_PREPAY'})\n",
    "    # 到期还款笔数\n",
    "    BUREAU_NUM_NORMAL = bureau[bureau['DAYS_CREDIT_ENDDATE'] == bureau['DAYS_ENDDATE_FACT'] ][['SK_ID_CURR','DAYS_ENDDATE_FACT']].groupby(['SK_ID_CURR']).count().rename(columns={'DAYS_ENDDATE_FACT':'BUREAU_NUM_NORMAL'})\n",
    "    # 延后还款笔数\n",
    "    BUREAU_NUM_DELAY = bureau[bureau['DAYS_CREDIT_ENDDATE'] < bureau['DAYS_ENDDATE_FACT'] ][['SK_ID_CURR','DAYS_ENDDATE_FACT']].groupby(['SK_ID_CURR']).count().rename(columns={'DAYS_ENDDATE_FACT':'BUREAU_NUM_DELAY'})\n",
    "    # 历史最大逾期金额\n",
    "    BUREAU_MAXAMT_OVERDUE = bureau[bureau['AMT_CREDIT_MAX_OVERDUE'] > 0][['SK_ID_CURR','AMT_CREDIT_MAX_OVERDUE']].groupby(['SK_ID_CURR']).max().rename(columns={'AMT_CREDIT_MAX_OVERDUE':'BUREAU_MAXAMT_OVERDUE'})\n",
    "    # 总展期次数\n",
    "    BUREAU_PROLONG_NUM = bureau[['SK_ID_CURR','CNT_CREDIT_PROLONG']].groupby(['SK_ID_CURR']).max().rename(columns={'CNT_CREDIT_PROLONG':'BUREAU_PROLONG_NUM'})\n",
    "    # 总还款金额\n",
    "    BUREAU_LOAN_AMT = bureau[['SK_ID_CURR','AMT_CREDIT_SUM']].groupby(['SK_ID_CURR']).sum().rename(columns={'AMT_CREDIT_SUM':'BUREAU_LOAN_AMT'})\n",
    "    # 总未还金额\n",
    "    BUREAU_DEBT_AMT = bureau[['SK_ID_CURR','AMT_CREDIT_SUM_DEBT']].groupby(['SK_ID_CURR']).sum().rename(columns={'AMT_CREDIT_SUM_DEBT':'BUREAU_DEBT_AMT'})\n",
    "    # 最大信用额度\n",
    "    BUREAU_LIMITAMT_MAX = bureau[['SK_ID_CURR','AMT_CREDIT_SUM_LIMIT']].groupby(['SK_ID_CURR']).max().rename(columns={'AMT_CREDIT_SUM_LIMIT':'BUREAU_LIMITAMT_MAX'})\n",
    "    # 总逾期金额\n",
    "    BUREAU_SUMAMT_OVERDUE = bureau[['SK_ID_CURR','AMT_CREDIT_SUM_OVERDUE']].groupby(['SK_ID_CURR']).sum().rename(columns={'AMT_CREDIT_SUM_OVERDUE':'BUREAU_SUMAMT_OVERDUE'})\n",
    "    # 消费贷数\n",
    "    BUREAU_NUM_CONSUMER = bureau[bureau['CREDIT_TYPE'] == 'Consumer credit' ][['SK_ID_CURR','CREDIT_TYPE']].groupby(['SK_ID_CURR']).count().rename(columns={'CREDIT_TYPE':'BUREAU_NUM_CONSUMER'})\n",
    "    # 信用卡数\n",
    "    BUREAU_NUM_CARD = bureau[bureau['CREDIT_TYPE'] == 'Credit card' ][['SK_ID_CURR','CREDIT_TYPE']].groupby(['SK_ID_CURR']).count().rename(columns={'CREDIT_TYPE':'BUREAU_NUM_CARD'})\n",
    "    # 汽车贷款数\n",
    "    BUREAU_NUM_CAR = bureau[bureau['CREDIT_TYPE'] == 'Car loan' ][['SK_ID_CURR','CREDIT_TYPE']].groupby(['SK_ID_CURR']).count().rename(columns={'CREDIT_TYPE':'BUREAU_NUM_CAR'})\n",
    "    # 抵押贷款数\n",
    "    BUREAU_NUM_MORTGAGE = bureau[bureau['CREDIT_TYPE'] == 'Mortgage' ][['SK_ID_CURR','CREDIT_TYPE']].groupby(['SK_ID_CURR']).count().rename(columns={'CREDIT_TYPE':'BUREAU_NUM_MORTGAGE'})\n",
    "    # 小微贷款数\n",
    "    BUREAU_NUM_MiCROLOAN = bureau[bureau['CREDIT_TYPE'] == 'Microloan' ][['SK_ID_CURR','CREDIT_TYPE']].groupby(['SK_ID_CURR']).count().rename(columns={'CREDIT_TYPE':'BUREAU_NUM_MiCROLOAN'})\n",
    "    # 其他贷款数\n",
    "    BUREAU_NUM_OTHER = bureau[~bureau.CREDIT_TYPE.isin(['Consumer credit','Credit card','Car loan','Mortgage','Microloan']) ][['SK_ID_CURR','CREDIT_TYPE']].groupby(['SK_ID_CURR']).count().rename(columns={'CREDIT_TYPE':'BUREAU_NUM_OTHER'})\n",
    "    # 消费贷借款总金额\n",
    "    BUREAU_AMT_CONSUMER = bureau[bureau['CREDIT_TYPE'] == 'Consumer credit' ][['SK_ID_CURR','AMT_CREDIT_SUM']].groupby(['SK_ID_CURR']).sum().rename(columns={'AMT_CREDIT_SUM':'BUREAU_AMT_CONSUMER'})\n",
    "    # 信用卡借款总金额\n",
    "    BUREAU_AMT_CARD = bureau[bureau['CREDIT_TYPE'] == 'Credit card' ][['SK_ID_CURR','AMT_CREDIT_SUM']].groupby(['SK_ID_CURR']).sum().rename(columns={'AMT_CREDIT_SUM':'BUREAU_AMT_CARD'})\n",
    "    # 汽车贷款借款总金额\n",
    "    BUREAU_AMT_CAR = bureau[bureau['CREDIT_TYPE'] == 'Car loan' ][['SK_ID_CURR','AMT_CREDIT_SUM']].groupby(['SK_ID_CURR']).sum().rename(columns={'AMT_CREDIT_SUM':'BUREAU_AMT_CAR'})\n",
    "    # 抵押贷款借款总金额\n",
    "    BUREAU_AMT_MORTGAGE = bureau[bureau['CREDIT_TYPE'] == 'Mortgage' ][['SK_ID_CURR','AMT_CREDIT_SUM']].groupby(['SK_ID_CURR']).sum().rename(columns={'AMT_CREDIT_SUM':'BUREAU_AMT_MORTGAGE'})\n",
    "    # 小微贷款借款总金额\n",
    "    BUREAU_AMT_MiCROLOAN = bureau[bureau['CREDIT_TYPE'] == 'Microloan' ][['SK_ID_CURR','AMT_CREDIT_SUM']].groupby(['SK_ID_CURR']).sum().rename(columns={'AMT_CREDIT_SUM':'BUREAU_AMT_MiCROLOAN'})\n",
    "    # 其他贷款借款总金额\n",
    "    BUREAU_AMT_OTHER = bureau[~bureau.CREDIT_TYPE.isin(['Consumer credit','Credit card','Car loan','Mortgage','Microloan']) ][['SK_ID_CURR','AMT_CREDIT_SUM']].groupby(['SK_ID_CURR']).sum().rename(columns={'AMT_CREDIT_SUM':'BUREAU_AMT_OTHER'})\n",
    "    # 消费贷借款未还总金额\n",
    "    BUREAU_DEBTAMT_CONSUMER = bureau[bureau['CREDIT_TYPE'] == 'Consumer credit' ][['SK_ID_CURR','AMT_CREDIT_SUM_DEBT']].groupby(['SK_ID_CURR']).sum().rename(columns={'AMT_CREDIT_SUM_DEBT':'BUREAU_DEBTAMT_CONSUMER'})\n",
    "    # 信用卡借款未还总金额\n",
    "    BUREAU_DEBTAMT_CARD = bureau[bureau['CREDIT_TYPE'] == 'Credit card' ][['SK_ID_CURR','AMT_CREDIT_SUM_DEBT']].groupby(['SK_ID_CURR']).sum().rename(columns={'AMT_CREDIT_SUM_DEBT':'BUREAU_DEBTAMT_CARD'})\n",
    "    # 汽车贷款借款未还总金额\n",
    "    BUREAU_DEBTAMT_CAR = bureau[bureau['CREDIT_TYPE'] == 'Car loan' ][['SK_ID_CURR','AMT_CREDIT_SUM_DEBT']].groupby(['SK_ID_CURR']).sum().rename(columns={'AMT_CREDIT_SUM_DEBT':'BUREAU_DEBTAMT_CAR'})\n",
    "    # 抵押贷款借款未还总金额\n",
    "    BUREAU_DEBTAMT_MORTGAGE = bureau[bureau['CREDIT_TYPE'] == 'Mortgage' ][['SK_ID_CURR','AMT_CREDIT_SUM_DEBT']].groupby(['SK_ID_CURR']).sum().rename(columns={'AMT_CREDIT_SUM_DEBT':'BUREAU_DEBTAMT_MORTGAGE'})\n",
    "    # 小微贷款借款未还总金额\n",
    "    BUREAU_DEBTAMT_MiCROLOAN = bureau[bureau['CREDIT_TYPE'] == 'Microloan' ][['SK_ID_CURR','AMT_CREDIT_SUM_DEBT']].groupby(['SK_ID_CURR']).sum().rename(columns={'AMT_CREDIT_SUM_DEBT':'BUREAU_DEBTAMT_MiCROLOAN'})\n",
    "    # 其他贷款借款未还总金额\n",
    "    BUREAU_DEBTAMT_OTHER = bureau[~bureau.CREDIT_TYPE.isin(['Consumer credit','Credit card','Car loan','Mortgage','Microloan']) ][['SK_ID_CURR','AMT_CREDIT_SUM_DEBT']].groupby(['SK_ID_CURR']).sum().rename(columns={'AMT_CREDIT_SUM_DEBT':'BUREAU_DEBTAMT_OTHER'})\n",
    "    # 消费贷逾期总金额\n",
    "    BUREAU_OVERDUEAMT_CONSUMER = bureau[bureau['CREDIT_TYPE'] == 'Consumer credit' ][['SK_ID_CURR','AMT_CREDIT_SUM_OVERDUE']].groupby(['SK_ID_CURR']).sum().rename(columns={'AMT_CREDIT_SUM_OVERDUE':'BUREAU_OVERDUEAMT_CONSUMER'})\n",
    "    # 信用卡逾期总金额\n",
    "    BUREAU_OVERDUEAMT_CARD = bureau[bureau['CREDIT_TYPE'] == 'Credit card' ][['SK_ID_CURR','AMT_CREDIT_SUM_OVERDUE']].groupby(['SK_ID_CURR']).sum().rename(columns={'AMT_CREDIT_SUM_OVERDUE':'BUREAU_OVERDUEAMT_CARD'})\n",
    "    # 汽车贷款逾期总金额\n",
    "    BUREAU_OVERDUEAMT_CAR = bureau[bureau['CREDIT_TYPE'] == 'Car loan' ][['SK_ID_CURR','AMT_CREDIT_SUM_OVERDUE']].groupby(['SK_ID_CURR']).sum().rename(columns={'AMT_CREDIT_SUM_OVERDUE':'BUREAU_OVERDUEAMT_CAR'})\n",
    "    # 抵押贷款逾期总金额\n",
    "    BUREAU_OVERDUEAMT_MORTGAGE = bureau[bureau['CREDIT_TYPE'] == 'Mortgage' ][['SK_ID_CURR','AMT_CREDIT_SUM_OVERDUE']].groupby(['SK_ID_CURR']).sum().rename(columns={'AMT_CREDIT_SUM_OVERDUE':'BUREAU_OVERDUEAMT_MORTGAGE'})\n",
    "    # 小微贷款逾期总金额\n",
    "    BUREAU_OVERDUEAMT_MiCROLOAN = bureau[bureau['CREDIT_TYPE'] == 'Microloan' ][['SK_ID_CURR','AMT_CREDIT_SUM_OVERDUE']].groupby(['SK_ID_CURR']).sum().rename(columns={'AMT_CREDIT_SUM_OVERDUE':'BUREAU_OVERDUEAMT_MiCROLOAN'})\n",
    "    # 其他贷款逾期总金额\n",
    "    BUREAU_OVERDUEAMT_OTHER = bureau[~bureau.CREDIT_TYPE.isin(['Consumer credit','Credit card','Car loan','Mortgage','Microloan']) ][['SK_ID_CURR','AMT_CREDIT_SUM_OVERDUE']].groupby(['SK_ID_CURR']).sum().rename(columns={'AMT_CREDIT_SUM_OVERDUE':'BUREAU_OVERDUEAMT_OTHER'})\n",
    "    # 最近一次更新记录时间\n",
    "    BUREAU_LAST_UPDATE_DAYS = bureau[['SK_ID_CURR','DAYS_CREDIT_UPDATE']].groupby(['SK_ID_CURR']).max().rename(columns={'DAYS_CREDIT_UPDATE':'BUREAU_LAST_UPDATE_DAYS'})\n",
    "\n",
    "    del bureau\n",
    "    all_vars = locals()\n",
    "    bureau_extra = concat_df_by_name('BUREAU',all_vars)\n",
    "    print(bureau_extra.shape)\n",
    "    return bureau_extra"
   ]
  },
  {
   "cell_type": "code",
   "execution_count": 51,
   "id": "3493dc7a",
   "metadata": {},
   "outputs": [],
   "source": [
    "def process_bureau_balance():\n",
    "    # bureau_balance表\n",
    "    bureau_balance = load_data('bureau_balance')\n",
    "    bureau_balance = reduce_mem_usage(bureau_balance)\n",
    "    bureau = load_data('bureau')\n",
    "    bureau = reduce_mem_usage(bureau)\n",
    "\n",
    "    tmp = bureau[['SK_ID_BUREAU','SK_ID_CURR']]\n",
    "    bureau_balance_union = pd.merge(bureau_balance, tmp, how='left', on='SK_ID_BUREAU')\n",
    "    bureau_balance_union['SK_ID_CURR'] = bureau_balance_union['SK_ID_CURR'].fillna(0).astype('int64')\n",
    "    bureau_balance_union = bureau_balance_union[bureau_balance_union.STATUS.isin(['0','1','2','3','4','5'])]\n",
    "\n",
    "    # 征信最近1个月逾期状态 0 1 2 3 4 5的笔数\n",
    "    tmp = bureau_balance_union[bureau_balance_union.MONTHS_BALANCE >= -1][['SK_ID_BUREAU','SK_ID_CURR','STATUS']].groupby(['SK_ID_BUREAU','SK_ID_CURR'], as_index=False).max()\n",
    "    BUREAU_OVERDUE_NUM_1_0 = tmp[tmp.STATUS =='0'][['SK_ID_BUREAU','SK_ID_CURR']].groupby(['SK_ID_CURR']).count().rename(columns={'SK_ID_BUREAU':'BUREAU_OVERDUE_NUM_1_0'})\n",
    "    BUREAU_OVERDUE_NUM_1_1 = tmp[tmp.STATUS == '1'][['SK_ID_BUREAU','SK_ID_CURR']].groupby(['SK_ID_CURR']).count().rename(columns={'SK_ID_BUREAU':'BUREAU_OVERDUE_NUM_1_1'})\n",
    "    BUREAU_OVERDUE_NUM_1_2 = tmp[tmp.STATUS == '2'][['SK_ID_BUREAU','SK_ID_CURR']].groupby(['SK_ID_CURR']).count().rename(columns={'SK_ID_BUREAU':'BUREAU_OVERDUE_NUM_1_2'})\n",
    "    BUREAU_OVERDUE_NUM_1_3 = tmp[tmp.STATUS == '3'][['SK_ID_BUREAU','SK_ID_CURR']].groupby(['SK_ID_CURR']).count().rename(columns={'SK_ID_BUREAU':'BUREAU_OVERDUE_NUM_1_3'})\n",
    "    BUREAU_OVERDUE_NUM_1_4 = tmp[tmp.STATUS == '4'][['SK_ID_BUREAU','SK_ID_CURR']].groupby(['SK_ID_CURR']).count().rename(columns={'SK_ID_BUREAU':'BUREAU_OVERDUE_NUM_1_4'})\n",
    "    BUREAU_OVERDUE_NUM_1_5 = tmp[tmp.STATUS == '5'][['SK_ID_BUREAU','SK_ID_CURR']].groupby(['SK_ID_CURR']).count().rename(columns={'SK_ID_BUREAU':'BUREAU_OVERDUE_NUM_1_5'})\n",
    "\n",
    "    # 征信最近1-3个月逾期状态 0 1 2 3 4 5的笔数\n",
    "    tmp = bureau_balance_union[ (bureau_balance_union.MONTHS_BALANCE < -1) & (bureau_balance_union.MONTHS_BALANCE >= -3) ][['SK_ID_BUREAU','SK_ID_CURR','STATUS']].groupby(['SK_ID_BUREAU','SK_ID_CURR'], as_index=False).max()\n",
    "    BUREAU_OVERDUE_NUM_3_0 = tmp[tmp.STATUS =='0'][['SK_ID_BUREAU','SK_ID_CURR']].groupby(['SK_ID_CURR']).count().rename(columns={'SK_ID_BUREAU':'BUREAU_OVERDUE_NUM_3_0'})\n",
    "    BUREAU_OVERDUE_NUM_3_1 = tmp[tmp.STATUS == '1'][['SK_ID_BUREAU','SK_ID_CURR']].groupby(['SK_ID_CURR']).count().rename(columns={'SK_ID_BUREAU':'BUREAU_OVERDUE_NUM_3_1'})\n",
    "    BUREAU_OVERDUE_NUM_3_2 = tmp[tmp.STATUS == '2'][['SK_ID_BUREAU','SK_ID_CURR']].groupby(['SK_ID_CURR']).count().rename(columns={'SK_ID_BUREAU':'BUREAU_OVERDUE_NUM_3_2'})\n",
    "    BUREAU_OVERDUE_NUM_3_3 = tmp[tmp.STATUS == '3'][['SK_ID_BUREAU','SK_ID_CURR']].groupby(['SK_ID_CURR']).count().rename(columns={'SK_ID_BUREAU':'BUREAU_OVERDUE_NUM_3_3'})\n",
    "    BUREAU_OVERDUE_NUM_3_4 = tmp[tmp.STATUS == '4'][['SK_ID_BUREAU','SK_ID_CURR']].groupby(['SK_ID_CURR']).count().rename(columns={'SK_ID_BUREAU':'BUREAU_OVERDUE_NUM_3_4'})\n",
    "    BUREAU_OVERDUE_NUM_3_5 = tmp[tmp.STATUS == '5'][['SK_ID_BUREAU','SK_ID_CURR']].groupby(['SK_ID_CURR']).count().rename(columns={'SK_ID_BUREAU':'BUREAU_OVERDUE_NUM_3_5'})\n",
    "\n",
    "    # 征信最近3-6个月逾期状态 0 1 2 3 4 5的笔数\n",
    "    tmp = bureau_balance_union[ (bureau_balance_union.MONTHS_BALANCE < -3) & (bureau_balance_union.MONTHS_BALANCE >= -6) ][['SK_ID_BUREAU','SK_ID_CURR','STATUS']].groupby(['SK_ID_BUREAU','SK_ID_CURR'], as_index=False).max()\n",
    "    BUREAU_OVERDUE_NUM_6_0 = tmp[tmp.STATUS =='0'][['SK_ID_BUREAU','SK_ID_CURR']].groupby(['SK_ID_CURR']).count().rename(columns={'SK_ID_BUREAU':'BUREAU_OVERDUE_NUM_6_0'})\n",
    "    BUREAU_OVERDUE_NUM_6_1 = tmp[tmp.STATUS == '1'][['SK_ID_BUREAU','SK_ID_CURR']].groupby(['SK_ID_CURR']).count().rename(columns={'SK_ID_BUREAU':'BUREAU_OVERDUE_NUM_6_1'})\n",
    "    BUREAU_OVERDUE_NUM_6_2 = tmp[tmp.STATUS == '2'][['SK_ID_BUREAU','SK_ID_CURR']].groupby(['SK_ID_CURR']).count().rename(columns={'SK_ID_BUREAU':'BUREAU_OVERDUE_NUM_6_2'})\n",
    "    BUREAU_OVERDUE_NUM_6_3 = tmp[tmp.STATUS == '3'][['SK_ID_BUREAU','SK_ID_CURR']].groupby(['SK_ID_CURR']).count().rename(columns={'SK_ID_BUREAU':'BUREAU_OVERDUE_NUM_6_3'})\n",
    "    BUREAU_OVERDUE_NUM_6_4 = tmp[tmp.STATUS == '4'][['SK_ID_BUREAU','SK_ID_CURR']].groupby(['SK_ID_CURR']).count().rename(columns={'SK_ID_BUREAU':'BUREAU_OVERDUE_NUM_6_4'})\n",
    "    BUREAU_OVERDUE_NUM_6_5 = tmp[tmp.STATUS == '5'][['SK_ID_BUREAU','SK_ID_CURR']].groupby(['SK_ID_CURR']).count().rename(columns={'SK_ID_BUREAU':'BUREAU_OVERDUE_NUM_6_5'})\n",
    "\n",
    "    # 征信最近6-12个月逾期状态 0 1 2 3 4 5的笔数\n",
    "    tmp = bureau_balance_union[ (bureau_balance_union.MONTHS_BALANCE < -6) & (bureau_balance_union.MONTHS_BALANCE >= -12) ][['SK_ID_BUREAU','SK_ID_CURR','STATUS']].groupby(['SK_ID_BUREAU','SK_ID_CURR'], as_index=False).max()\n",
    "    BUREAU_OVERDUE_NUM_12_0 = tmp[tmp.STATUS =='0'][['SK_ID_BUREAU','SK_ID_CURR']].groupby(['SK_ID_CURR']).count().rename(columns={'SK_ID_BUREAU':'BUREAU_OVERDUE_NUM_12_0'})\n",
    "    BUREAU_OVERDUE_NUM_12_1 = tmp[tmp.STATUS == '1'][['SK_ID_BUREAU','SK_ID_CURR']].groupby(['SK_ID_CURR']).count().rename(columns={'SK_ID_BUREAU':'BUREAU_OVERDUE_NUM_12_1'})\n",
    "    BUREAU_OVERDUE_NUM_12_2 = tmp[tmp.STATUS == '2'][['SK_ID_BUREAU','SK_ID_CURR']].groupby(['SK_ID_CURR']).count().rename(columns={'SK_ID_BUREAU':'BUREAU_OVERDUE_NUM_12_2'})\n",
    "    BUREAU_OVERDUE_NUM_12_3 = tmp[tmp.STATUS == '3'][['SK_ID_BUREAU','SK_ID_CURR']].groupby(['SK_ID_CURR']).count().rename(columns={'SK_ID_BUREAU':'BUREAU_OVERDUE_NUM_12_3'})\n",
    "    BUREAU_OVERDUE_NUM_12_4 = tmp[tmp.STATUS == '4'][['SK_ID_BUREAU','SK_ID_CURR']].groupby(['SK_ID_CURR']).count().rename(columns={'SK_ID_BUREAU':'BUREAU_OVERDUE_NUM_12_4'})\n",
    "    BUREAU_OVERDUE_NUM_12_5 = tmp[tmp.STATUS == '5'][['SK_ID_BUREAU','SK_ID_CURR']].groupby(['SK_ID_CURR']).count().rename(columns={'SK_ID_BUREAU':'BUREAU_OVERDUE_NUM_12_5'})\n",
    "\n",
    "    # 征信最近12-24个月逾期状态 0 1 2 3 4 5的笔数\n",
    "    tmp = bureau_balance_union[ (bureau_balance_union.MONTHS_BALANCE < -12) & (bureau_balance_union.MONTHS_BALANCE >= -24) ][['SK_ID_BUREAU','SK_ID_CURR','STATUS']].groupby(['SK_ID_BUREAU','SK_ID_CURR'], as_index=False).max()\n",
    "    BUREAU_OVERDUE_NUM_24_0 = tmp[tmp.STATUS =='0'][['SK_ID_BUREAU','SK_ID_CURR']].groupby(['SK_ID_CURR']).count().rename(columns={'SK_ID_BUREAU':'BUREAU_OVERDUE_NUM_24_0'})\n",
    "    BUREAU_OVERDUE_NUM_24_1 = tmp[tmp.STATUS == '1'][['SK_ID_BUREAU','SK_ID_CURR']].groupby(['SK_ID_CURR']).count().rename(columns={'SK_ID_BUREAU':'BUREAU_OVERDUE_NUM_24_1'})\n",
    "    BUREAU_OVERDUE_NUM_24_2 = tmp[tmp.STATUS == '2'][['SK_ID_BUREAU','SK_ID_CURR']].groupby(['SK_ID_CURR']).count().rename(columns={'SK_ID_BUREAU':'BUREAU_OVERDUE_NUM_24_2'})\n",
    "    BUREAU_OVERDUE_NUM_24_3 = tmp[tmp.STATUS == '3'][['SK_ID_BUREAU','SK_ID_CURR']].groupby(['SK_ID_CURR']).count().rename(columns={'SK_ID_BUREAU':'BUREAU_OVERDUE_NUM_24_3'})\n",
    "    BUREAU_OVERDUE_NUM_24_4 = tmp[tmp.STATUS == '4'][['SK_ID_BUREAU','SK_ID_CURR']].groupby(['SK_ID_CURR']).count().rename(columns={'SK_ID_BUREAU':'BUREAU_OVERDUE_NUM_24_4'})\n",
    "    BUREAU_OVERDUE_NUM_24_5 = tmp[tmp.STATUS == '5'][['SK_ID_BUREAU','SK_ID_CURR']].groupby(['SK_ID_CURR']).count().rename(columns={'SK_ID_BUREAU':'BUREAU_OVERDUE_NUM_24_5'})\n",
    "\n",
    "    # 征信最近24-36个月逾期状态 0 1 2 3 4 5的笔数\n",
    "    tmp = bureau_balance_union[ (bureau_balance_union.MONTHS_BALANCE < -24) & (bureau_balance_union.MONTHS_BALANCE >= -36) ][['SK_ID_BUREAU','SK_ID_CURR','STATUS']].groupby(['SK_ID_BUREAU','SK_ID_CURR'], as_index=False).max()\n",
    "    BUREAU_OVERDUE_NUM_36_0 = tmp[tmp.STATUS =='0'][['SK_ID_BUREAU','SK_ID_CURR']].groupby(['SK_ID_CURR']).count().rename(columns={'SK_ID_BUREAU':'BUREAU_OVERDUE_NUM_36_0'})\n",
    "    BUREAU_OVERDUE_NUM_36_1 = tmp[tmp.STATUS == '1'][['SK_ID_BUREAU','SK_ID_CURR']].groupby(['SK_ID_CURR']).count().rename(columns={'SK_ID_BUREAU':'BUREAU_OVERDUE_NUM_36_1'})\n",
    "    BUREAU_OVERDUE_NUM_36_2 = tmp[tmp.STATUS == '2'][['SK_ID_BUREAU','SK_ID_CURR']].groupby(['SK_ID_CURR']).count().rename(columns={'SK_ID_BUREAU':'BUREAU_OVERDUE_NUM_36_2'})\n",
    "    BUREAU_OVERDUE_NUM_36_3 = tmp[tmp.STATUS == '3'][['SK_ID_BUREAU','SK_ID_CURR']].groupby(['SK_ID_CURR']).count().rename(columns={'SK_ID_BUREAU':'BUREAU_OVERDUE_NUM_36_3'})\n",
    "    BUREAU_OVERDUE_NUM_36_4 = tmp[tmp.STATUS == '4'][['SK_ID_BUREAU','SK_ID_CURR']].groupby(['SK_ID_CURR']).count().rename(columns={'SK_ID_BUREAU':'BUREAU_OVERDUE_NUM_36_4'})\n",
    "    BUREAU_OVERDUE_NUM_36_5 = tmp[tmp.STATUS == '5'][['SK_ID_BUREAU','SK_ID_CURR']].groupby(['SK_ID_CURR']).count().rename(columns={'SK_ID_BUREAU':'BUREAU_OVERDUE_NUM_36_5'})\n",
    "\n",
    "    # 征信最近36+个月逾期状态 0 1 2 3 4 5的笔数\n",
    "    tmp = bureau_balance_union[ bureau_balance_union.MONTHS_BALANCE < -36][['SK_ID_BUREAU','SK_ID_CURR','STATUS']].groupby(['SK_ID_BUREAU','SK_ID_CURR'], as_index=False).max()\n",
    "    BUREAU_OVERDUE_NUM_36plus_0 = tmp[tmp.STATUS =='0'][['SK_ID_BUREAU','SK_ID_CURR']].groupby(['SK_ID_CURR']).count().rename(columns={'SK_ID_BUREAU':'BUREAU_OVERDUE_NUM_36plus_0'})\n",
    "    BUREAU_OVERDUE_NUM_36plus_1 = tmp[tmp.STATUS == '1'][['SK_ID_BUREAU','SK_ID_CURR']].groupby(['SK_ID_CURR']).count().rename(columns={'SK_ID_BUREAU':'BUREAU_OVERDUE_NUM_36plus_1'})\n",
    "    BUREAU_OVERDUE_NUM_36plus_2 = tmp[tmp.STATUS == '2'][['SK_ID_BUREAU','SK_ID_CURR']].groupby(['SK_ID_CURR']).count().rename(columns={'SK_ID_BUREAU':'BUREAU_OVERDUE_NUM_36plus_2'})\n",
    "    BUREAU_OVERDUE_NUM_36plus_3 = tmp[tmp.STATUS == '3'][['SK_ID_BUREAU','SK_ID_CURR']].groupby(['SK_ID_CURR']).count().rename(columns={'SK_ID_BUREAU':'BUREAU_OVERDUE_NUM_36plus_3'})\n",
    "    BUREAU_OVERDUE_NUM_36plus_4 = tmp[tmp.STATUS == '4'][['SK_ID_BUREAU','SK_ID_CURR']].groupby(['SK_ID_CURR']).count().rename(columns={'SK_ID_BUREAU':'BUREAU_OVERDUE_NUM_36plus_4'})\n",
    "    BUREAU_OVERDUE_NUM_36plus_5 = tmp[tmp.STATUS == '5'][['SK_ID_BUREAU','SK_ID_CURR']].groupby(['SK_ID_CURR']).count().rename(columns={'SK_ID_BUREAU':'BUREAU_OVERDUE_NUM_36plus_5'})\n",
    "\n",
    "    # 删除数据\n",
    "    del bureau,bureau_balance,bureau_balance_union,tmp\n",
    "    all_vars = locals()\n",
    "    bureau_balance_extra = concat_df_by_name('BUREAU',all_vars)\n",
    "    print(bureau_balance_extra.shape)\n",
    "    return bureau_balance_extra"
   ]
  },
  {
   "cell_type": "code",
   "execution_count": 52,
   "id": "ea9b7033",
   "metadata": {},
   "outputs": [],
   "source": [
    "def process_pre():\n",
    "    # previous_application表\n",
    "    previous_application = load_data('previous_application')\n",
    "    previous_application = reduce_mem_usage(previous_application)\n",
    "\n",
    "    previous_application['RATE_INTEREST_ACTUAL'] = ((previous_application.AMT_ANNUITY * previous_application.CNT_PAYMENT) - previous_application.AMT_CREDIT) / previous_application.AMT_CREDIT\n",
    "    previous_application.loc[previous_application.RATE_INTEREST_ACTUAL == -1.0,'RATE_INTEREST_ACTUAL'] = np.nan\n",
    "    # 历史贷款总数\n",
    "    PRE_CREDIT_NUM = previous_application[['SK_ID_CURR','SK_ID_PREV']].groupby(['SK_ID_CURR']).count().rename(columns={'SK_ID_PREV':'PRE_CREDIT_NUM'})\n",
    "    # 历史贷款总金额\n",
    "    PRE_CREDIT_AMT = previous_application[['SK_ID_CURR','AMT_CREDIT']].groupby(['SK_ID_CURR']).sum().rename(columns={'AMT_CREDIT':'PRE_CREDIT_AMT'})\n",
    "    # 历史贷款总月付款\n",
    "    PRE_CREDIT_ANNUITY_AMT = previous_application[['SK_ID_CURR','AMT_ANNUITY']].groupby(['SK_ID_CURR']).sum().rename(columns={'AMT_ANNUITY':'PRE_CREDIT_ANNUITY_AMT'})\n",
    "    # 历史刷卡贷款总数\n",
    "    PRE_CREDIT_POS_NUM = previous_application[previous_application['NAME_PORTFOLIO'] == 'POS'][['SK_ID_CURR','SK_ID_PREV']].groupby(['SK_ID_CURR']).count().rename(columns={'SK_ID_PREV':'PRE_CREDIT_POS_NUM'})\n",
    "    # 历史刷卡贷款总金额\n",
    "    PRE_CREDIT_POS_AMT = previous_application[previous_application['NAME_PORTFOLIO'] == 'POS'][['SK_ID_CURR','AMT_CREDIT']].groupby(['SK_ID_CURR']).sum().rename(columns={'AMT_CREDIT':'PRE_CREDIT_POS_AMT'})\n",
    "    # 历史刷卡贷款总月付款\n",
    "    PRE_CREDIT_POS_ANNUITYAMT = previous_application[previous_application['NAME_PORTFOLIO'] == 'POS'][['SK_ID_CURR','AMT_ANNUITY']].groupby(['SK_ID_CURR']).sum().rename(columns={'AMT_ANNUITY':'PRE_CREDIT_POS_ANNUITYAMT'})\n",
    "    # 历史现金贷款总数\n",
    "    PRE_CREDIT_CASH_NUM = previous_application[previous_application['NAME_PORTFOLIO'] == 'Cash'][['SK_ID_CURR','SK_ID_PREV']].groupby(['SK_ID_CURR']).count().rename(columns={'SK_ID_PREV':'PRE_CREDIT_CASH_NUM'})\n",
    "    # 历史现金贷款总金额\n",
    "    PRE_CREDIT_CASH_AMT = previous_application[previous_application['NAME_PORTFOLIO'] == 'Cash'][['SK_ID_CURR','AMT_CREDIT']].groupby(['SK_ID_CURR']).sum().rename(columns={'AMT_CREDIT':'PRE_CREDIT_CASH_AMT'})\n",
    "    # 历史现金贷款总月付款\n",
    "    PRE_CREDIT_CASH_ANNUITYAMT = previous_application[previous_application['NAME_PORTFOLIO'] == 'Cash'][['SK_ID_CURR','AMT_ANNUITY']].groupby(['SK_ID_CURR']).sum().rename(columns={'AMT_ANNUITY':'PRE_CREDIT_CASH_ANNUITYAMT'})\n",
    "    # 历史其他贷款总数\n",
    "    PRE_CREDIT_XNA_NUM = previous_application[previous_application['NAME_PORTFOLIO'] == 'XNA'][['SK_ID_CURR','SK_ID_PREV']].groupby(['SK_ID_CURR']).count().rename(columns={'SK_ID_PREV':'PRE_CREDIT_XNA_NUM'})\n",
    "    # 历史其他贷款总金额\n",
    "    PRE_CREDIT_XNA_AMT = previous_application[previous_application['NAME_PORTFOLIO'] == 'XNA'][['SK_ID_CURR','AMT_CREDIT']].groupby(['SK_ID_CURR']).sum().rename(columns={'AMT_CREDIT':'PRE_CREDIT_XNA_AMT'})\n",
    "    # 历史其他贷款总月付款\n",
    "    PRE_CREDIT_XNA_ANNUITYAMT = previous_application[previous_application['NAME_PORTFOLIO'] == 'XNA'][['SK_ID_CURR','AMT_ANNUITY']].groupby(['SK_ID_CURR']).sum().rename(columns={'AMT_ANNUITY':'PRE_CREDIT_XNA_ANNUITYAMT'})\n",
    "    # 历史信用卡贷款总数\n",
    "    PRE_CREDIT_Cards_NUM = previous_application[previous_application['NAME_PORTFOLIO'] == 'Cards'][['SK_ID_CURR','SK_ID_PREV']].groupby(['SK_ID_CURR']).count().rename(columns={'SK_ID_PREV':'PRE_CREDIT_Cards_NUM'})\n",
    "    # 历史信用卡贷款总金额\n",
    "    PRE_CREDIT_Cards_AMT = previous_application[previous_application['NAME_PORTFOLIO'] == 'Cards'][['SK_ID_CURR','AMT_CREDIT']].groupby(['SK_ID_CURR']).sum().rename(columns={'AMT_CREDIT':'PRE_CREDIT_Cards_AMT'})\n",
    "    # 历史信用卡贷款总月付款\n",
    "    PRE_CREDIT_Cards_ANNUITYAMT = previous_application[previous_application['NAME_PORTFOLIO'] == 'Cards'][['SK_ID_CURR','AMT_ANNUITY']].groupby(['SK_ID_CURR']).sum().rename(columns={'AMT_ANNUITY':'PRE_CREDIT_Cards_ANNUITYAMT'})\n",
    "    # 历史汽车贷款总数\n",
    "    PRE_CREDIT_Cars_NUM = previous_application[previous_application['NAME_PORTFOLIO'] == 'Cars'][['SK_ID_CURR','SK_ID_PREV']].groupby(['SK_ID_CURR']).count().rename(columns={'SK_ID_PREV':'PRE_CREDIT_Cars_NUM'})\n",
    "    # 历史汽车贷款总金额\n",
    "    PRE_CREDIT_Cars_AMT = previous_application[previous_application['NAME_PORTFOLIO'] == 'Cars'][['SK_ID_CURR','AMT_CREDIT']].groupby(['SK_ID_CURR']).sum().rename(columns={'AMT_CREDIT':'PRE_CREDIT_Cars_AMT'})\n",
    "    # 历史汽车贷款总月付款\n",
    "    PRE_CREDIT_Cars_ANNUITYAMT = previous_application[previous_application['NAME_PORTFOLIO'] == 'Cars'][['SK_ID_CURR','AMT_ANNUITY']].groupby(['SK_ID_CURR']).sum().rename(columns={'AMT_ANNUITY':'PRE_CREDIT_Cars_ANNUITYAMT'})\n",
    "    # 历史通过贷款总数\n",
    "    PRE_CREDIT_Approved_NUM = previous_application[previous_application['NAME_CONTRACT_STATUS'] == 'Approved'][['SK_ID_CURR','SK_ID_PREV']].groupby(['SK_ID_CURR']).count().rename(columns={'SK_ID_PREV':'PRE_CREDIT_Approved_NUM'})\n",
    "    # 历史通过贷款总金额\n",
    "    PRE_CREDIT_Approved_AMT = previous_application[previous_application['NAME_CONTRACT_STATUS'] == 'Approved'][['SK_ID_CURR','AMT_CREDIT']].groupby(['SK_ID_CURR']).sum().rename(columns={'AMT_CREDIT':'PRE_CREDIT_Approved_AMT'})\n",
    "    # 历史通过贷款总月付款\n",
    "    PRE_CREDIT_Approved_ANNUITYAMT = previous_application[previous_application['NAME_CONTRACT_STATUS'] == 'Approved'][['SK_ID_CURR','AMT_ANNUITY']].groupby(['SK_ID_CURR']).sum().rename(columns={'AMT_ANNUITY':'PRE_CREDIT_Approved_ANNUITYAMT'})\n",
    "    # 历史取消贷款总数\n",
    "    PRE_CREDIT_Canceled_NUM = previous_application[previous_application['NAME_CONTRACT_STATUS'] == 'Canceled'][['SK_ID_CURR','SK_ID_PREV']].groupby(['SK_ID_CURR']).count().rename(columns={'SK_ID_PREV':'PRE_CREDIT_Canceled_NUM'})\n",
    "    # 历史取消贷款总金额\n",
    "    PRE_CREDIT_Canceled_AMT = previous_application[previous_application['NAME_CONTRACT_STATUS'] == 'Canceled'][['SK_ID_CURR','AMT_CREDIT']].groupby(['SK_ID_CURR']).sum().rename(columns={'AMT_CREDIT':'PRE_CREDIT_Canceled_AMT'})\n",
    "    # 历史取消贷款总月付款\n",
    "    PRE_CREDIT_Canceled_ANNUITYAMT = previous_application[previous_application['NAME_CONTRACT_STATUS'] == 'Canceled'][['SK_ID_CURR','AMT_ANNUITY']].groupby(['SK_ID_CURR']).sum().rename(columns={'AMT_ANNUITY':'PRE_CREDIT_Canceled_ANNUITYAMT'})\n",
    "    # 历史被拒绝贷款总数\n",
    "    PRE_CREDIT_Refused_NUM = previous_application[previous_application['NAME_CONTRACT_STATUS'] == 'Refused'][['SK_ID_CURR','SK_ID_PREV']].groupby(['SK_ID_CURR']).count().rename(columns={'SK_ID_PREV':'PRE_CREDIT_Refused_NUM'})\n",
    "    # 历史被拒绝贷款总金额\n",
    "    PRE_CREDIT_Refused_AMT = previous_application[previous_application['NAME_CONTRACT_STATUS'] == 'Refused'][['SK_ID_CURR','AMT_CREDIT']].groupby(['SK_ID_CURR']).sum().rename(columns={'AMT_CREDIT':'PRE_CREDIT_Refused_AMT'})\n",
    "    # 历史被拒绝贷款总月付款\n",
    "    PRE_CREDIT_Refused_ANNUITYAMT = previous_application[previous_application['NAME_CONTRACT_STATUS'] == 'Refused'][['SK_ID_CURR','AMT_ANNUITY']].groupby(['SK_ID_CURR']).sum().rename(columns={'AMT_ANNUITY':'PRE_CREDIT_Refused_ANNUITYAMT'})\n",
    "    # 历史未使用贷款总数\n",
    "    PRE_CREDIT_Unused_NUM = previous_application[previous_application['NAME_CONTRACT_STATUS'] == 'Unused offer'][['SK_ID_CURR','SK_ID_PREV']].groupby(['SK_ID_CURR']).count().rename(columns={'SK_ID_PREV':'PRE_CREDIT_Unused_NUM'})\n",
    "    # 历史未使用贷款总金额\n",
    "    PRE_CREDIT_Unused_AMT = previous_application[previous_application['NAME_CONTRACT_STATUS'] == 'Unused offer'][['SK_ID_CURR','AMT_CREDIT']].groupby(['SK_ID_CURR']).sum().rename(columns={'AMT_CREDIT':'PRE_CREDIT_Unused_AMT'})\n",
    "    # 历史未使用贷款总月付款\n",
    "    PRE_CREDIT_Unused_ANNUITYAMT = previous_application[previous_application['NAME_CONTRACT_STATUS'] == 'Unused offer'][['SK_ID_CURR','AMT_ANNUITY']].groupby(['SK_ID_CURR']).sum().rename(columns={'AMT_ANNUITY':'PRE_CREDIT_Unused_ANNUITYAMT'})\n",
    "    # 拒绝原因是HC的申请数\n",
    "    PRE_HC_Refused_NUM = previous_application[(previous_application['NAME_CONTRACT_STATUS'] == 'Refused') & (previous_application['CODE_REJECT_REASON'] == 'HC')][['SK_ID_CURR','SK_ID_PREV']].groupby(['SK_ID_CURR']).count().rename(columns={'SK_ID_PREV':'PRE_HC_Refused_NUM'})\n",
    "    # 拒绝原因是LIMIT的申请数\n",
    "    PRE_LIMIT_Refused_NUM = previous_application[(previous_application['NAME_CONTRACT_STATUS'] == 'Refused') & (previous_application['CODE_REJECT_REASON'] == 'LIMIT')][['SK_ID_CURR','SK_ID_PREV']].groupby(['SK_ID_CURR']).count().rename(columns={'SK_ID_PREV':'PRE_LIMIT_Refused_NUM'})\n",
    "    # 拒绝原因是SCO的申请数\n",
    "    PRE_SCO_Refused_NUM = previous_application[(previous_application['NAME_CONTRACT_STATUS'] == 'Refused') & (previous_application['CODE_REJECT_REASON'] == 'SCO')][['SK_ID_CURR','SK_ID_PREV']].groupby(['SK_ID_CURR']).count().rename(columns={'SK_ID_PREV':'PRE_SCO_Refused_NUM'})\n",
    "    # 拒绝原因是SCOFR的申请数\n",
    "    PRE_SCOFR_Refused_NUM = previous_application[(previous_application['NAME_CONTRACT_STATUS'] == 'Refused') & (previous_application['CODE_REJECT_REASON'] == 'SCOFR')][['SK_ID_CURR','SK_ID_PREV']].groupby(['SK_ID_CURR']).count().rename(columns={'SK_ID_PREV':'PRE_SCOFR_Refused_NUM'})\n",
    "    # 拒绝原因是XNA的申请数\n",
    "    PRE_XNA_Refused_NUM = previous_application[(previous_application['NAME_CONTRACT_STATUS'] == 'Refused') & (previous_application['CODE_REJECT_REASON'] == 'XNA')][['SK_ID_CURR','SK_ID_PREV']].groupby(['SK_ID_CURR']).count().rename(columns={'SK_ID_PREV':'PRE_XNA_Refused_NUM'})\n",
    "    # 拒绝原因是VERIF的申请数\n",
    "    PRE_VERIF_Refused_NUM = previous_application[(previous_application['NAME_CONTRACT_STATUS'] == 'Refused') & (previous_application['CODE_REJECT_REASON'] == 'VERIF')][['SK_ID_CURR','SK_ID_PREV']].groupby(['SK_ID_CURR']).count().rename(columns={'SK_ID_PREV':'PRE_VERIF_Refused_NUM'})\n",
    "    # 拒绝原因是SYSTEM的申请数\n",
    "    PRE_SYSTEM_Refused_NUM = previous_application[(previous_application['NAME_CONTRACT_STATUS'] == 'Refused') & (previous_application['CODE_REJECT_REASON'] == 'SYSTEM')][['SK_ID_CURR','SK_ID_PREV']].groupby(['SK_ID_CURR']).count().rename(columns={'SK_ID_PREV':'PRE_SYSTEM_Refused_NUM'})\n",
    "    # 历史申请最大利率\n",
    "    PRE_MAX_INTEREST_RATE = previous_application[['SK_ID_CURR','RATE_INTEREST_ACTUAL']].groupby(['SK_ID_CURR']).max().rename(columns={'RATE_INTEREST_ACTUAL':'PRE_MAX_INTEREST_RATE'})\n",
    "    # 历史申请最小利率\n",
    "    PRE_MIN_INTEREST_RATE = previous_application[['SK_ID_CURR','RATE_INTEREST_ACTUAL']].groupby(['SK_ID_CURR']).min().rename(columns={'RATE_INTEREST_ACTUAL':'PRE_MIN_INTEREST_RATE'})\n",
    "    # 历史申请平均利率\n",
    "    PRE_AVG_INTEREST_RATE = previous_application[['SK_ID_CURR','RATE_INTEREST_ACTUAL']].groupby(['SK_ID_CURR']).mean().rename(columns={'RATE_INTEREST_ACTUAL':'PRE_AVG_INTEREST_RATE'})\n",
    "\n",
    "    # 当前正在还的申请数\n",
    "    PRE_REPAY_NUM = previous_application[previous_application.DAYS_TERMINATION == 365243.0][['SK_ID_CURR','SK_ID_PREV']].groupby(['SK_ID_CURR']).count().rename(columns={'SK_ID_PREV':'PRE_NUM_REPAY'})\n",
    "    # 当前正在还的总金额\n",
    "    PRE_REPAY_AMT = previous_application[previous_application.DAYS_TERMINATION == 365243.0][['SK_ID_CURR','AMT_APPLICATION']].groupby(['SK_ID_CURR']).sum().rename(columns={'AMT_APPLICATION':'PRE_REPAY_AMT'})\n",
    "    # 当前正在还的月付额\n",
    "    PRE_REPAY_ANNUITYAMT = previous_application[previous_application.DAYS_TERMINATION == 365243.0][['SK_ID_CURR','AMT_ANNUITY']].groupby(['SK_ID_CURR']).sum().rename(columns={'AMT_ANNUITY':'PRE_REPAY_ANNUITYAMT'})\n",
    "\n",
    "    # 当前在还中属于逾期的申请数\n",
    "    PRE_REAPY_OVERDUR_NUM = previous_application[(previous_application.DAYS_TERMINATION == 365243.0) & (previous_application.DAYS_LAST_DUE != 365243.0)][['SK_ID_CURR','SK_ID_PREV']].groupby(['SK_ID_CURR']).count().rename(columns={'SK_ID_PREV':'PRE_NUM_REAPY_OVERDUR'})\n",
    "    # 当前正在还属于逾期的总金额\n",
    "    PRE_REAPY_OVERDUR_AMT = previous_application[(previous_application.DAYS_TERMINATION == 365243.0) & (previous_application.DAYS_LAST_DUE != 365243.0)][['SK_ID_CURR','AMT_APPLICATION']].groupby(['SK_ID_CURR']).sum().rename(columns={'AMT_APPLICATION':'PRE_REAPY_OVERDUR_AMT'})\n",
    "    # 当前正在还属于逾期的月付额\n",
    "    PRE_REAPY_OVERDUR_ANNUITYAMT = previous_application[(previous_application.DAYS_TERMINATION == 365243.0) & (previous_application.DAYS_LAST_DUE != 365243.0)][['SK_ID_CURR','AMT_ANNUITY']].groupby(['SK_ID_CURR']).sum().rename(columns={'AMT_ANNUITY':'PRE_REAPY_OVERDUR_ANNUITYAMT'})\n",
    "\n",
    "    # 最近3 6个月 1年 2年 3年 3年+贷款数 被拒绝数 通过数 贷款总金额 月付款额\n",
    "\n",
    "    del previous_application\n",
    "    all_vars = locals()\n",
    "    pre_extra = concat_df_by_name('PRE',all_vars)\n",
    "    print(pre_extra.shape)\n",
    "    return pre_extra"
   ]
  },
  {
   "cell_type": "code",
   "execution_count": 53,
   "id": "ff971841",
   "metadata": {},
   "outputs": [],
   "source": [
    "def process_pos():\n",
    "    # POS_CASH_balance表\n",
    "    POS_CASH_balance = load_data('POS_CASH_balance')\n",
    "    POS_CASH_balance = reduce_mem_usage(POS_CASH_balance)\n",
    "\n",
    "    # pos总贷款数\n",
    "    POS_CREDIT_NUM = POS_CASH_balance[['SK_ID_PREV','SK_ID_CURR']].groupby(['SK_ID_CURR']).nunique().rename(columns={'SK_ID_PREV':'POS_CREDIT_NUM'})\n",
    "    # pos已经还清的笔数\n",
    "    POS_FINISH_NUM = POS_CASH_balance[POS_CASH_balance.NAME_CONTRACT_STATUS == 'Completed'][['SK_ID_PREV','SK_ID_CURR']].groupby(['SK_ID_CURR']).nunique().rename(columns={'SK_ID_PREV':'POS_FINISH_NUM'})\n",
    "    # pos正在还的笔数\n",
    "    POS_REPAY_NUM = POS_CASH_balance[ (POS_CASH_balance.MONTHS_BALANCE == -1) & (POS_CASH_balance.NAME_CONTRACT_STATUS == 'Active')][['SK_ID_PREV','SK_ID_CURR']].groupby(['SK_ID_CURR']).nunique().rename(columns={'SK_ID_PREV':'POS_REPAY_NUM'})\n",
    "    # pos已经还清贷款最大逾期天数\n",
    "    tmp = pd.DataFrame(POS_CASH_balance[POS_CASH_balance.NAME_CONTRACT_STATUS == 'Completed']['SK_ID_PREV'].unique(), columns=['SK_ID_PREV'])\n",
    "    tmp = pd.merge(POS_CASH_balance, tmp, how='inner', on='SK_ID_PREV')\n",
    "    POS_DAYS_MAXOVERDUE_FINISH = tmp[['SK_ID_CURR','SK_DPD_DEF']].groupby(['SK_ID_CURR']).max().rename(columns={'SK_DPD_DEF':'POS_DAYS_MAXOVERDUE_FINISH'})\n",
    "    # pos已经还清贷款发生过逾期的笔数\n",
    "    POS_NUM_MAXOVERDUE_FINISH = tmp[tmp.SK_DPD_DEF > 0][['SK_ID_PREV','SK_ID_CURR']].groupby('SK_ID_CURR').nunique().rename(columns={'SK_ID_PREV':'POS_NUM_MAXOVERDUE_FINISH'})\n",
    "    # pos正在还贷款最大逾期天数\n",
    "    tmp = pd.DataFrame(POS_CASH_balance[(POS_CASH_balance.MONTHS_BALANCE == -1) & (POS_CASH_balance.NAME_CONTRACT_STATUS == 'Active')]['SK_ID_PREV'].unique(), columns=['SK_ID_PREV'])\n",
    "    tmp = pd.merge(POS_CASH_balance, tmp, how='inner', on='SK_ID_PREV')\n",
    "    POS_DAYS_MAXOVERDUE_REPAY = tmp[['SK_ID_CURR','SK_DPD_DEF']].groupby(['SK_ID_CURR']).max().rename(columns={'SK_DPD_DEF':'POS_DAYS_MAXOVERDUE_REPAY'})\n",
    "    # pos正在还贷款发生过逾期的笔数\n",
    "    POS_NUM_MAXOVERDUE_REPAY = tmp[tmp.SK_DPD_DEF > 0][['SK_ID_PREV','SK_ID_CURR']].groupby('SK_ID_CURR').nunique().rename(columns={'SK_ID_PREV':'POS_NUM_MAXOVERDUE_REPAY'})\n",
    "\n",
    "    # pos最近6个月逾期0 7 14 30 90 90+天内的笔数\n",
    "    tmp = POS_CASH_balance[(POS_CASH_balance.MONTHS_BALANCE >= -6)][['SK_ID_PREV','SK_ID_CURR','SK_DPD_DEF']].groupby(['SK_ID_PREV','SK_ID_CURR'], as_index=False).max()\n",
    "    POS_OVERDUENUM_6_0 = tmp[tmp.SK_DPD_DEF ==0][['SK_ID_PREV','SK_ID_CURR']].groupby(['SK_ID_CURR']).count().rename(columns={'SK_ID_PREV':'POS_OVERDUENUM_6_0'})\n",
    "    POS_OVERDUENUM_6_7 = tmp[(tmp.SK_DPD_DEF > 0) & (tmp.SK_DPD_DEF <= 7)][['SK_ID_PREV','SK_ID_CURR']].groupby(['SK_ID_CURR']).count().rename(columns={'SK_ID_PREV':'POS_OVERDUENUM_6_7'})\n",
    "    POS_OVERDUENUM_6_14 = tmp[(tmp.SK_DPD_DEF > 7) & (tmp.SK_DPD_DEF <= 14)][['SK_ID_PREV','SK_ID_CURR']].groupby(['SK_ID_CURR']).count().rename(columns={'SK_ID_PREV':'POS_OVERDUENUM_6_14'})\n",
    "    POS_OVERDUENUM_6_30 = tmp[(tmp.SK_DPD_DEF > 14) & (tmp.SK_DPD_DEF <= 30)][['SK_ID_PREV','SK_ID_CURR']].groupby(['SK_ID_CURR']).count().rename(columns={'SK_ID_PREV':'POS_OVERDUENUM_6_30'})\n",
    "    POS_OVERDUENUM_6_90 = tmp[(tmp.SK_DPD_DEF > 30) & (tmp.SK_DPD_DEF <= 90)][['SK_ID_PREV','SK_ID_CURR']].groupby(['SK_ID_CURR']).count().rename(columns={'SK_ID_PREV':'POS_OVERDUENUM_6_90'})\n",
    "    POS_OVERDUENUM_6_90plus = tmp[tmp.SK_DPD_DEF > 90][['SK_ID_PREV','SK_ID_CURR']].groupby(['SK_ID_CURR']).count().rename(columns={'SK_ID_PREV':'POS_OVERDUENUM_6_90plus'})\n",
    "\n",
    "    # pos最近7-12个月逾期0 7 14 30 90 90+天内的笔数\n",
    "    tmp = POS_CASH_balance[(POS_CASH_balance.MONTHS_BALANCE >= -12) & (POS_CASH_balance.MONTHS_BALANCE < -6)][['SK_ID_PREV','SK_ID_CURR','SK_DPD_DEF']].groupby(['SK_ID_PREV','SK_ID_CURR'], as_index=False).max()\n",
    "    POS_OVERDUENUM_12_0 = tmp[tmp.SK_DPD_DEF ==0][['SK_ID_PREV','SK_ID_CURR']].groupby(['SK_ID_CURR']).count().rename(columns={'SK_ID_PREV':'POS_OVERDUENUM_12_0'})\n",
    "    POS_OVERDUENUM_12_7 = tmp[(tmp.SK_DPD_DEF > 0) & (tmp.SK_DPD_DEF <= 7)][['SK_ID_PREV','SK_ID_CURR']].groupby(['SK_ID_CURR']).count().rename(columns={'SK_ID_PREV':'POS_OVERDUENUM_12_7'})\n",
    "    POS_OVERDUENUM_12_14 = tmp[(tmp.SK_DPD_DEF > 7) & (tmp.SK_DPD_DEF <= 14)][['SK_ID_PREV','SK_ID_CURR']].groupby(['SK_ID_CURR']).count().rename(columns={'SK_ID_PREV':'POS_OVERDUENUM_12_14'})\n",
    "    POS_OVERDUENUM_12_30 = tmp[(tmp.SK_DPD_DEF > 14) & (tmp.SK_DPD_DEF <= 30)][['SK_ID_PREV','SK_ID_CURR']].groupby(['SK_ID_CURR']).count().rename(columns={'SK_ID_PREV':'POS_OVERDUENUM_12_30'})\n",
    "    POS_OVERDUENUM_12_90 = tmp[(tmp.SK_DPD_DEF > 30) & (tmp.SK_DPD_DEF <= 90)][['SK_ID_PREV','SK_ID_CURR']].groupby(['SK_ID_CURR']).count().rename(columns={'SK_ID_PREV':'POS_OVERDUENUM_12_90'})\n",
    "    POS_OVERDUENUM_12_90plus = tmp[tmp.SK_DPD_DEF > 90][['SK_ID_PREV','SK_ID_CURR']].groupby(['SK_ID_CURR']).count().rename(columns={'SK_ID_PREV':'POS_OVERDUENUM_12_90plus'})\n",
    "\n",
    "    # pos最近13-24个月逾期0 7 14 30 90 90+天内的笔数\n",
    "    tmp = POS_CASH_balance[(POS_CASH_balance.MONTHS_BALANCE >= -24) & (POS_CASH_balance.MONTHS_BALANCE < -12)][['SK_ID_PREV','SK_ID_CURR','SK_DPD_DEF']].groupby(['SK_ID_PREV','SK_ID_CURR'], as_index=False).max()\n",
    "    POS_OVERDUENUM_24_0 = tmp[tmp.SK_DPD_DEF ==0][['SK_ID_PREV','SK_ID_CURR']].groupby(['SK_ID_CURR']).count().rename(columns={'SK_ID_PREV':'POS_OVERDUENUM_24_0'})\n",
    "    POS_OVERDUENUM_24_7 = tmp[(tmp.SK_DPD_DEF > 0) & (tmp.SK_DPD_DEF <= 7)][['SK_ID_PREV','SK_ID_CURR']].groupby(['SK_ID_CURR']).count().rename(columns={'SK_ID_PREV':'POS_OVERDUENUM_24_7'})\n",
    "    POS_OVERDUENUM_24_14 = tmp[(tmp.SK_DPD_DEF > 7) & (tmp.SK_DPD_DEF <= 14)][['SK_ID_PREV','SK_ID_CURR']].groupby(['SK_ID_CURR']).count().rename(columns={'SK_ID_PREV':'POS_OVERDUENUM_24_14'})\n",
    "    POS_OVERDUENUM_24_30 = tmp[(tmp.SK_DPD_DEF > 14) & (tmp.SK_DPD_DEF <= 30)][['SK_ID_PREV','SK_ID_CURR']].groupby(['SK_ID_CURR']).count().rename(columns={'SK_ID_PREV':'POS_OVERDUENUM_24_30'})\n",
    "    POS_OVERDUENUM_24_90 = tmp[(tmp.SK_DPD_DEF > 30) & (tmp.SK_DPD_DEF <= 90)][['SK_ID_PREV','SK_ID_CURR']].groupby(['SK_ID_CURR']).count().rename(columns={'SK_ID_PREV':'POS_OVERDUENUM_24_90'})\n",
    "    POS_OVERDUENUM_24_90plus = tmp[tmp.SK_DPD_DEF > 90][['SK_ID_PREV','SK_ID_CURR']].groupby(['SK_ID_CURR']).count().rename(columns={'SK_ID_PREV':'POS_OVERDUENUM_24_90plus'})\n",
    "\n",
    "    # pos最近24-36个月逾期0 7 14 30 90 90+天内的笔数\n",
    "    tmp = POS_CASH_balance[(POS_CASH_balance.MONTHS_BALANCE >= -36) & (POS_CASH_balance.MONTHS_BALANCE < -24)][['SK_ID_PREV','SK_ID_CURR','SK_DPD_DEF']].groupby(['SK_ID_PREV','SK_ID_CURR'], as_index=False).max()\n",
    "    POS_OVERDUENUM_36_0 = tmp[tmp.SK_DPD_DEF ==0][['SK_ID_PREV','SK_ID_CURR']].groupby(['SK_ID_CURR']).count().rename(columns={'SK_ID_PREV':'POS_OVERDUENUM_36_0'})\n",
    "    POS_OVERDUENUM_36_7 = tmp[(tmp.SK_DPD_DEF > 0) & (tmp.SK_DPD_DEF <= 7)][['SK_ID_PREV','SK_ID_CURR']].groupby(['SK_ID_CURR']).count().rename(columns={'SK_ID_PREV':'POS_OVERDUENUM_36_7'})\n",
    "    POS_OVERDUENUM_36_14 = tmp[(tmp.SK_DPD_DEF > 7) & (tmp.SK_DPD_DEF <= 14)][['SK_ID_PREV','SK_ID_CURR']].groupby(['SK_ID_CURR']).count().rename(columns={'SK_ID_PREV':'POS_OVERDUENUM_36_14'})\n",
    "    POS_OVERDUENUM_36_30 = tmp[(tmp.SK_DPD_DEF > 14) & (tmp.SK_DPD_DEF <= 30)][['SK_ID_PREV','SK_ID_CURR']].groupby(['SK_ID_CURR']).count().rename(columns={'SK_ID_PREV':'POS_OVERDUENUM_36_30'})\n",
    "    POS_OVERDUENUM_36_90 = tmp[(tmp.SK_DPD_DEF > 30) & (tmp.SK_DPD_DEF <= 90)][['SK_ID_PREV','SK_ID_CURR']].groupby(['SK_ID_CURR']).count().rename(columns={'SK_ID_PREV':'POS_OVERDUENUM_36_90'})\n",
    "    POS_OVERDUENUM_36_90plus = tmp[tmp.SK_DPD_DEF > 90][['SK_ID_PREV','SK_ID_CURR']].groupby(['SK_ID_CURR']).count().rename(columns={'SK_ID_PREV':'POS_OVERDUENUM_36_90plus'})\n",
    "\n",
    "    # pos最近36以上个月逾期0 7 14 30 90 90+天内的笔数\n",
    "    tmp = POS_CASH_balance[POS_CASH_balance.MONTHS_BALANCE < -36][['SK_ID_PREV','SK_ID_CURR','SK_DPD_DEF']].groupby(['SK_ID_PREV','SK_ID_CURR'], as_index=False).max()\n",
    "    POS_OVERDUENUM_36plus_0 = tmp[tmp.SK_DPD_DEF ==0][['SK_ID_PREV','SK_ID_CURR']].groupby(['SK_ID_CURR']).count().rename(columns={'SK_ID_PREV':'POS_OVERDUENUM_36plus_0'})\n",
    "    POS_OVERDUENUM_36plus_7 = tmp[(tmp.SK_DPD_DEF > 0) & (tmp.SK_DPD_DEF <= 7)][['SK_ID_PREV','SK_ID_CURR']].groupby(['SK_ID_CURR']).count().rename(columns={'SK_ID_PREV':'POS_OVERDUENUM_36plus_7'})\n",
    "    POS_OVERDUENUM_36plus_14 = tmp[(tmp.SK_DPD_DEF > 7) & (tmp.SK_DPD_DEF <= 14)][['SK_ID_PREV','SK_ID_CURR']].groupby(['SK_ID_CURR']).count().rename(columns={'SK_ID_PREV':'POS_OVERDUENUM_36plus_14'})\n",
    "    POS_OVERDUENUM_36plus_30 = tmp[(tmp.SK_DPD_DEF > 14) & (tmp.SK_DPD_DEF <= 30)][['SK_ID_PREV','SK_ID_CURR']].groupby(['SK_ID_CURR']).count().rename(columns={'SK_ID_PREV':'POS_OVERDUENUM_36plus_30'})\n",
    "    POS_OVERDUENUM_36plus_90 = tmp[(tmp.SK_DPD_DEF > 30) & (tmp.SK_DPD_DEF <= 90)][['SK_ID_PREV','SK_ID_CURR']].groupby(['SK_ID_CURR']).count().rename(columns={'SK_ID_PREV':'POS_OVERDUENUM_36plus_90'})\n",
    "    POS_OVERDUENUM_36plus_90plus = tmp[tmp.SK_DPD_DEF > 90][['SK_ID_PREV','SK_ID_CURR']].groupby(['SK_ID_CURR']).count().rename(columns={'SK_ID_PREV':'POS_OVERDUENUM_36plus_90plus'})\n",
    "\n",
    "    # pos当前仍在逾期的笔数 最大逾期天数\n",
    "    POS_NUM_OVERDUE_STILL = POS_CASH_balance[(POS_CASH_balance.MONTHS_BALANCE == -1) & (POS_CASH_balance.SK_DPD_DEF > 30)][['SK_ID_CURR','SK_ID_PREV']].groupby(['SK_ID_CURR']).count().rename(columns={'SK_ID_PREV':'POS_NUM_OVERDUE_STILL'})\n",
    "    POS_DAYS_MAXOVERDUE_STILL = POS_CASH_balance[(POS_CASH_balance.MONTHS_BALANCE == -1) & (POS_CASH_balance.SK_DPD_DEF > 30)][['SK_ID_CURR','SK_DPD_DEF']].groupby(['SK_ID_CURR']).max().rename(columns={'SK_DPD_DEF':'POS_DAYS_MAXOVERDUE_STILL'})\n",
    "\n",
    "    del POS_CASH_balance,tmp\n",
    "    all_vars = locals()\n",
    "    pos_extra = concat_df_by_name('POS',all_vars)\n",
    "    print(pos_extra.shape)\n",
    "    return pos_extra"
   ]
  },
  {
   "cell_type": "code",
   "execution_count": 54,
   "id": "878d0800",
   "metadata": {},
   "outputs": [],
   "source": [
    "def process_inst():\n",
    "    # installments_payments表\n",
    "    installments_payments = load_data('installments_payments')\n",
    "    installments_payments = reduce_mem_usage(installments_payments)\n",
    "\n",
    "    # 分期还款记录中有很多应还款额为67.5的记录，中间有大量的逾期，明显有问题，我们剔除这些数据\n",
    "    installments_payments = installments_payments[installments_payments.AMT_INSTALMENT > 100]\n",
    "    installments_payments['DAYS_DIFF'] = installments_payments['DAYS_ENTRY_PAYMENT'] - installments_payments['DAYS_INSTALMENT']\n",
    "    # 分期还款的贷款数\n",
    "    INST_NUM = installments_payments[['SK_ID_CURR','SK_ID_PREV']].groupby('SK_ID_CURR').nunique().rename(columns={'SK_ID_PREV':'INST_NUM'})\n",
    "    # 分期还款最近6个月在还贷款数\n",
    "    INST_NUM_6m = installments_payments[installments_payments.DAYS_INSTALMENT >= -180][['SK_ID_CURR','SK_ID_PREV']].groupby('SK_ID_CURR').nunique().rename(columns={'SK_ID_PREV':'INST_NUM_6m'})\n",
    "    # 分期还款最近6个月发生了逾期的贷款数\n",
    "    INST_NUM_6m_all = installments_payments[(installments_payments.DAYS_INSTALMENT >= -180) & (installments_payments.DAYS_DIFF > 0)][['SK_ID_CURR','SK_ID_PREV']].groupby('SK_ID_CURR').nunique().rename(columns={'SK_ID_PREV':'INST_NUM_6m_all'})\n",
    "    # 分期还款最近6个月发生了逾期，逾期天数在7天内的贷款数\n",
    "    INST_NUM_6m_7d = installments_payments[(installments_payments.DAYS_INSTALMENT >= -180) & (installments_payments.DAYS_DIFF > 0) & (installments_payments.DAYS_DIFF <= 7)][['SK_ID_CURR','SK_ID_PREV']].groupby('SK_ID_CURR').nunique().rename(columns={'SK_ID_PREV':'INST_NUM_6m_7d'})\n",
    "    # 分期还款最近6个月发生了逾期，逾期天数在8-14天内的贷款数\n",
    "    INST_NUM_6m_14d = installments_payments[(installments_payments.DAYS_INSTALMENT >= -180) & (installments_payments.DAYS_DIFF > 7) & (installments_payments.DAYS_DIFF <= 14)][['SK_ID_CURR','SK_ID_PREV']].groupby('SK_ID_CURR').nunique().rename(columns={'SK_ID_PREV':'INST_NUM_6m_14d'})\n",
    "    # 分期还款最近6个月发生了逾期，逾期天数在15-30天内的贷款数\n",
    "    INST_NUM_6m_30d = installments_payments[(installments_payments.DAYS_INSTALMENT >= -180) & (installments_payments.DAYS_DIFF > 14) & (installments_payments.DAYS_DIFF <= 30)][['SK_ID_CURR','SK_ID_PREV']].groupby('SK_ID_CURR').nunique().rename(columns={'SK_ID_PREV':'INST_NUM_6m_30d'})\n",
    "    # 分期还款最近6个月发生了逾期，逾期天数在31-90天内的贷款数\n",
    "    INST_NUM_6m_90d = installments_payments[(installments_payments.DAYS_INSTALMENT >= -180) & (installments_payments.DAYS_DIFF > 30) & (installments_payments.DAYS_DIFF <= 90)][['SK_ID_CURR','SK_ID_PREV']].groupby('SK_ID_CURR').nunique().rename(columns={'SK_ID_PREV':'INST_NUM_6m_90d'})\n",
    "    # 分期还款最近6个月发生了逾期，逾期天数在90+天内的贷款数\n",
    "    INST_NUM_6m_90dplus = installments_payments[(installments_payments.DAYS_INSTALMENT >= -180) & (installments_payments.DAYS_DIFF > 90)][['SK_ID_CURR','SK_ID_PREV']].groupby('SK_ID_CURR').nunique().rename(columns={'SK_ID_PREV':'INST_NUM_6m_90dplus'})\n",
    "\n",
    "    # 分期还款最近6-12个月在还贷款数\n",
    "    INST_NUM_12m = installments_payments[(installments_payments.DAYS_INSTALMENT < -180) & (installments_payments.DAYS_INSTALMENT >= -360)][['SK_ID_CURR','SK_ID_PREV']].groupby('SK_ID_CURR').nunique().rename(columns={'SK_ID_PREV':'INST_NUM_12m'})\n",
    "    # 分期还款最近6-12个月发生了逾期的贷款数\n",
    "    INST_NUM_12m_all = installments_payments[(installments_payments.DAYS_INSTALMENT < -180) & (installments_payments.DAYS_INSTALMENT >= -360) & (installments_payments.DAYS_DIFF > 0)][['SK_ID_CURR','SK_ID_PREV']].groupby('SK_ID_CURR').nunique().rename(columns={'SK_ID_PREV':'INST_NUM_12m_all'})\n",
    "    # 分期还款最近6-12个月发生了逾期，逾期天数在7天内的贷款数\n",
    "    INST_NUM_12m_7d = installments_payments[(installments_payments.DAYS_INSTALMENT < -180) & (installments_payments.DAYS_INSTALMENT >= -360) & (installments_payments.DAYS_DIFF > 0) & (installments_payments.DAYS_DIFF <= 7)][['SK_ID_CURR','SK_ID_PREV']].groupby('SK_ID_CURR').nunique().rename(columns={'SK_ID_PREV':'INST_NUM_12m_7d'})\n",
    "    # 分期还款最近6-12个月发生了逾期，逾期天数在8-14天内的贷款数\n",
    "    INST_NUM_12m_14d = installments_payments[(installments_payments.DAYS_INSTALMENT < -180) & (installments_payments.DAYS_INSTALMENT >= -360) & (installments_payments.DAYS_DIFF > 7) & (installments_payments.DAYS_DIFF <= 14)][['SK_ID_CURR','SK_ID_PREV']].groupby('SK_ID_CURR').nunique().rename(columns={'SK_ID_PREV':'INST_NUM_12m_14d'})\n",
    "    # 分期还款最近6-12个月发生了逾期，逾期天数在15-30天内的贷款数\n",
    "    INST_NUM_12m_30d = installments_payments[(installments_payments.DAYS_INSTALMENT < -180) & (installments_payments.DAYS_INSTALMENT >= -360) & (installments_payments.DAYS_DIFF > 14) & (installments_payments.DAYS_DIFF <= 30)][['SK_ID_CURR','SK_ID_PREV']].groupby('SK_ID_CURR').nunique().rename(columns={'SK_ID_PREV':'INST_NUM_12m_30d'})\n",
    "    # 分期还款最近6-12个月发生了逾期，逾期天数在31-90天内的贷款数\n",
    "    INST_NUM_12m_90d = installments_payments[(installments_payments.DAYS_INSTALMENT < -180) & (installments_payments.DAYS_INSTALMENT >= -360) & (installments_payments.DAYS_DIFF > 30) & (installments_payments.DAYS_DIFF <= 90)][['SK_ID_CURR','SK_ID_PREV']].groupby('SK_ID_CURR').nunique().rename(columns={'SK_ID_PREV':'INST_NUM_12m_90d'})\n",
    "    # 分期还款最近6-12个月发生了逾期，逾期天数在90+天内的贷款数\n",
    "    INST_NUM_12m_90dplus = installments_payments[(installments_payments.DAYS_INSTALMENT < -180) & (installments_payments.DAYS_INSTALMENT >= -360) & (installments_payments.DAYS_DIFF > 90)][['SK_ID_CURR','SK_ID_PREV']].groupby('SK_ID_CURR').nunique().rename(columns={'SK_ID_PREV':'INST_NUM_12m_90dplus'})\n",
    "\n",
    "    # 分期还款最近12-24个月在还贷款数\n",
    "    INST_NUM_24m = installments_payments[(installments_payments.DAYS_INSTALMENT <= -720) & (installments_payments.DAYS_INSTALMENT < -360)][['SK_ID_CURR','SK_ID_PREV']].groupby('SK_ID_CURR').nunique().rename(columns={'SK_ID_PREV':'INST_NUM_24m'})\n",
    "    # 分期还款最近12-24个月发生了逾期的贷款数\n",
    "    INST_NUM_24m_all = installments_payments[(installments_payments.DAYS_INSTALMENT <= -720) & (installments_payments.DAYS_INSTALMENT < -360) & (installments_payments.DAYS_DIFF > 0)][['SK_ID_CURR','SK_ID_PREV']].groupby('SK_ID_CURR').nunique().rename(columns={'SK_ID_PREV':'INST_NUM_24m_all'})\n",
    "    # 分期还款最近12-24个月发生了逾期，逾期天数在7天内的贷款数\n",
    "    INST_NUM_24m_7d = installments_payments[(installments_payments.DAYS_INSTALMENT <= -720) & (installments_payments.DAYS_INSTALMENT < -360) & (installments_payments.DAYS_DIFF > 0) & (installments_payments.DAYS_DIFF <= 7)][['SK_ID_CURR','SK_ID_PREV']].groupby('SK_ID_CURR').nunique().rename(columns={'SK_ID_PREV':'INST_NUM_24m_7d'})\n",
    "    # 分期还款最近12-24个月发生了逾期，逾期天数在8-14天内的贷款数\n",
    "    INST_NUM_24m_14d = installments_payments[(installments_payments.DAYS_INSTALMENT <= -720) & (installments_payments.DAYS_INSTALMENT < -360) & (installments_payments.DAYS_DIFF > 7) & (installments_payments.DAYS_DIFF <= 14)][['SK_ID_CURR','SK_ID_PREV']].groupby('SK_ID_CURR').nunique().rename(columns={'SK_ID_PREV':'INST_NUM_24m_14d'})\n",
    "    # 分期还款最近12-24个月发生了逾期，逾期天数在15-30天内的贷款数\n",
    "    INST_NUM_24m_30d = installments_payments[(installments_payments.DAYS_INSTALMENT <= -720) & (installments_payments.DAYS_INSTALMENT < -360) & (installments_payments.DAYS_DIFF > 14) & (installments_payments.DAYS_DIFF <= 30)][['SK_ID_CURR','SK_ID_PREV']].groupby('SK_ID_CURR').nunique().rename(columns={'SK_ID_PREV':'INST_NUM_24m_30d'})\n",
    "    # 分期还款最近12-24个月发生了逾期，逾期天数在31-90天内的贷款数\n",
    "    INST_NUM_24m_90d = installments_payments[(installments_payments.DAYS_INSTALMENT <= -720) & (installments_payments.DAYS_INSTALMENT < -360) & (installments_payments.DAYS_DIFF > 30) & (installments_payments.DAYS_DIFF <= 90)][['SK_ID_CURR','SK_ID_PREV']].groupby('SK_ID_CURR').nunique().rename(columns={'SK_ID_PREV':'INST_NUM_24m_90d'})\n",
    "    # 分期还款最近12-24个月发生了逾期，逾期天数在90+天内的贷款数\n",
    "    INST_NUM_24m_90dplus = installments_payments[(installments_payments.DAYS_INSTALMENT <= -720) & (installments_payments.DAYS_INSTALMENT < -360) & (installments_payments.DAYS_DIFF > 90)][['SK_ID_CURR','SK_ID_PREV']].groupby('SK_ID_CURR').nunique().rename(columns={'SK_ID_PREV':'INST_NUM_24m_90dplus'})\n",
    "\n",
    "    # 分期还款最近24-36个月在还贷款数\n",
    "    INST_NUM_36m = installments_payments[(installments_payments.DAYS_INSTALMENT >= -1080) & (installments_payments.DAYS_INSTALMENT < -720)][['SK_ID_CURR','SK_ID_PREV']].groupby('SK_ID_CURR').nunique().rename(columns={'SK_ID_PREV':'INST_NUM_36m'})\n",
    "    # 分期还款最近24-36个月发生了逾期的贷款数\n",
    "    INST_NUM_36m_all = installments_payments[(installments_payments.DAYS_INSTALMENT >= -1080) & (installments_payments.DAYS_INSTALMENT < -720) & (installments_payments.DAYS_DIFF > 0)][['SK_ID_CURR','SK_ID_PREV']].groupby('SK_ID_CURR').nunique().rename(columns={'SK_ID_PREV':'INST_NUM_36m_all'})\n",
    "    # 分期还款最近24-36个月发生了逾期，逾期天数在7天内的贷款数\n",
    "    INST_NUM_36m_7d = installments_payments[(installments_payments.DAYS_INSTALMENT >= -1080) & (installments_payments.DAYS_INSTALMENT < -720) & (installments_payments.DAYS_DIFF > 0) & (installments_payments.DAYS_DIFF <= 7)][['SK_ID_CURR','SK_ID_PREV']].groupby('SK_ID_CURR').nunique().rename(columns={'SK_ID_PREV':'INST_NUM_36m_7d'})\n",
    "    # 分期还款最近24-36个月发生了逾期，逾期天数在8-14天内的贷款数\n",
    "    INST_NUM_36m_14d = installments_payments[(installments_payments.DAYS_INSTALMENT >= -1080) & (installments_payments.DAYS_INSTALMENT < -720) & (installments_payments.DAYS_DIFF > 7) & (installments_payments.DAYS_DIFF <= 14)][['SK_ID_CURR','SK_ID_PREV']].groupby('SK_ID_CURR').nunique().rename(columns={'SK_ID_PREV':'INST_NUM_36m_14d'})\n",
    "    # 分期还款最近24-36个月发生了逾期，逾期天数在15-30天内的贷款数\n",
    "    INST_NUM_36m_30d = installments_payments[(installments_payments.DAYS_INSTALMENT >= -1080) & (installments_payments.DAYS_INSTALMENT < -720) & (installments_payments.DAYS_DIFF > 14) & (installments_payments.DAYS_DIFF <= 30)][['SK_ID_CURR','SK_ID_PREV']].groupby('SK_ID_CURR').nunique().rename(columns={'SK_ID_PREV':'INST_NUM_36m_30d'})\n",
    "    # 分期还款最近24-36个月发生了逾期，逾期天数在31-90天内的贷款数\n",
    "    INST_NUM_36m_90d = installments_payments[(installments_payments.DAYS_INSTALMENT >= -1080) & (installments_payments.DAYS_INSTALMENT < -720) & (installments_payments.DAYS_DIFF > 30) & (installments_payments.DAYS_DIFF <= 90)][['SK_ID_CURR','SK_ID_PREV']].groupby('SK_ID_CURR').nunique().rename(columns={'SK_ID_PREV':'INST_NUM_36m_90d'})\n",
    "    # 分期还款最近24-36个月发生了逾期，逾期天数在90+天内的贷款数\n",
    "    INST_NUM_36m_90dplus = installments_payments[(installments_payments.DAYS_INSTALMENT >= -1080) & (installments_payments.DAYS_INSTALMENT < -720) & (installments_payments.DAYS_DIFF > 90)][['SK_ID_CURR','SK_ID_PREV']].groupby('SK_ID_CURR').nunique().rename(columns={'SK_ID_PREV':'INST_NUM_36m_90dplus'})\n",
    "\n",
    "    # 分期还款最近36+个月在还贷款数\n",
    "    INST_NUM_36mplus = installments_payments[installments_payments.DAYS_INSTALMENT < -1080][['SK_ID_CURR','SK_ID_PREV']].groupby('SK_ID_CURR').nunique().rename(columns={'SK_ID_PREV':'INST_NUM_36mplus'})\n",
    "    # 分期还款最近36+个月发生了逾期的贷款数\n",
    "    INST_NUM_36mplus_all = installments_payments[installments_payments.DAYS_INSTALMENT < -1080 & (installments_payments.DAYS_DIFF > 0)][['SK_ID_CURR','SK_ID_PREV']].groupby('SK_ID_CURR').nunique().rename(columns={'SK_ID_PREV':'INST_NUM_36mplus_all'})\n",
    "    # 分期还款最近36+个月发生了逾期，逾期天数在7天内的贷款数\n",
    "    INST_NUM_36mplus_7d = installments_payments[installments_payments.DAYS_INSTALMENT < -1080 & (installments_payments.DAYS_DIFF > 0) & (installments_payments.DAYS_DIFF <= 7)][['SK_ID_CURR','SK_ID_PREV']].groupby('SK_ID_CURR').nunique().rename(columns={'SK_ID_PREV':'INST_NUM_36mplus_7d'})\n",
    "    # 分期还款最近36+个月发生了逾期，逾期天数在8-14天内的贷款数\n",
    "    INST_NUM_36mplus_14d = installments_payments[installments_payments.DAYS_INSTALMENT < -1080 & (installments_payments.DAYS_DIFF > 7) & (installments_payments.DAYS_DIFF <= 14)][['SK_ID_CURR','SK_ID_PREV']].groupby('SK_ID_CURR').nunique().rename(columns={'SK_ID_PREV':'INST_NUM_36mplus_14d'})\n",
    "    # 分期还款最近36+个月发生了逾期，逾期天数在15-30天内的贷款数\n",
    "    INST_NUM_36mplus_30d = installments_payments[installments_payments.DAYS_INSTALMENT < -1080 & (installments_payments.DAYS_DIFF > 14) & (installments_payments.DAYS_DIFF <= 30)][['SK_ID_CURR','SK_ID_PREV']].groupby('SK_ID_CURR').nunique().rename(columns={'SK_ID_PREV':'INST_NUM_36mplus_30d'})\n",
    "    # 分期还款最近36+个月发生了逾期，逾期天数在31-90天内的贷款数\n",
    "    INST_NUM_36mplus_90d = installments_payments[installments_payments.DAYS_INSTALMENT < -1080 & (installments_payments.DAYS_DIFF > 30) & (installments_payments.DAYS_DIFF <= 90)][['SK_ID_CURR','SK_ID_PREV']].groupby('SK_ID_CURR').nunique().rename(columns={'SK_ID_PREV':'INST_NUM_36mplus_90d'})\n",
    "    # 分期还款最近36+个月发生了逾期，逾期天数在90+天内的贷款数\n",
    "    INST_NUM_36mplus_90dplus = installments_payments[installments_payments.DAYS_INSTALMENT < -1080 & (installments_payments.DAYS_DIFF > 90)][['SK_ID_CURR','SK_ID_PREV']].groupby('SK_ID_CURR').nunique().rename(columns={'SK_ID_PREV':'INST_NUM_36mplus_90dplus'})\n",
    "\n",
    "    # 分期还款最近6个月发生逾期的逾期金额\n",
    "    INST_AMT_6m = installments_payments[(installments_payments.DAYS_INSTALMENT >= -180) & (installments_payments.DAYS_DIFF > 0)][['SK_ID_CURR','AMT_PAYMENT']].groupby('SK_ID_CURR').sum().rename(columns={'AMT_PAYMENT':'INST_AMT_6m'})\n",
    "    # 分期还款最近6-12个月发生逾期的逾期金额\n",
    "    INST_AMT_12m = installments_payments[(installments_payments.DAYS_INSTALMENT < -180) & (installments_payments.DAYS_INSTALMENT >= -360) & (installments_payments.DAYS_DIFF > 0)][['SK_ID_CURR','AMT_PAYMENT']].groupby('SK_ID_CURR').sum().rename(columns={'AMT_PAYMENT':'INST_AMT_12m'})\n",
    "    # 分期还款最近12-24个月发生逾期的逾期金额\n",
    "    INST_AMT_24m = installments_payments[(installments_payments.DAYS_INSTALMENT < -360) & (installments_payments.DAYS_INSTALMENT >= -720) & (installments_payments.DAYS_DIFF > 0)][['SK_ID_CURR','AMT_PAYMENT']].groupby('SK_ID_CURR').sum().rename(columns={'AMT_PAYMENT':'INST_AMT_24m'})\n",
    "    # 分期还款最近24-36个月发生逾期的逾期金额\n",
    "    INST_AMT_36m = installments_payments[(installments_payments.DAYS_INSTALMENT < -720) & (installments_payments.DAYS_INSTALMENT >= -1080) & (installments_payments.DAYS_DIFF > 0)][['SK_ID_CURR','AMT_PAYMENT']].groupby('SK_ID_CURR').sum().rename(columns={'AMT_PAYMENT':'INST_AMT_36m'})\n",
    "    # 分期还款最近36+个月发生逾期的逾期金额\n",
    "    INST_AMT_36mplus = installments_payments[(installments_payments.DAYS_INSTALMENT < -1080) & (installments_payments.DAYS_DIFF > 0)][['SK_ID_CURR','AMT_PAYMENT']].groupby('SK_ID_CURR').sum().rename(columns={'AMT_PAYMENT':'INST_AMT_36mplus'})\n",
    "\n",
    "    # 分期还款当前仍在逾期的贷款数\n",
    "    INST_NUM_STILL = installments_payments[installments_payments.DAYS_ENTRY_PAYMENT.isnull()][['SK_ID_CURR','SK_ID_PREV']].groupby(['SK_ID_CURR']).nunique().rename(columns={'SK_ID_PREV':'INST_NUM_STILL'})\n",
    "    # 分期还款当前仍在逾期的贷款总逾期期数\n",
    "    INST_NUM_SEQ_STILL = installments_payments[installments_payments.DAYS_ENTRY_PAYMENT.isnull()][['SK_ID_CURR','SK_ID_PREV']].groupby(['SK_ID_CURR']).count().rename(columns={'SK_ID_PREV':'INST_NUM_SEQ_STILL'})\n",
    "    # 分期还款当前仍在逾期的贷款最大逾期天数\n",
    "    INST_DAYS_MAX_STILL = installments_payments[installments_payments.DAYS_ENTRY_PAYMENT.isnull()][['SK_ID_CURR','DAYS_INSTALMENT']].groupby(['SK_ID_CURR']).min().rename(columns={'DAYS_INSTALMENT':'INST_DAYS_MAX_STILL'})\n",
    "    # 分期还款当前仍在逾期的总逾期金额\n",
    "    INST_AMT_STILL = installments_payments[installments_payments.DAYS_ENTRY_PAYMENT.isnull()][['SK_ID_CURR','AMT_INSTALMENT']].groupby(['SK_ID_CURR']).sum().rename(columns={'AMT_INSTALMENT':'INST_AMT_STILL'})\n",
    "\n",
    "    del installments_payments\n",
    "    all_vars = locals()\n",
    "    inst_extra = concat_df_by_name('INST',all_vars)\n",
    "    print(inst_extra.shape)\n",
    "    return inst_extra"
   ]
  },
  {
   "cell_type": "code",
   "execution_count": 55,
   "id": "d308ae66",
   "metadata": {},
   "outputs": [],
   "source": [
    "def process_credit_balance():\n",
    "    # credit_card_balance表\n",
    "    credit_card_balance = load_data('credit_card_balance')\n",
    "    credit_card_balance = reduce_mem_usage(credit_card_balance)\n",
    "\n",
    "    # 信用卡数\n",
    "    CREDIT_NUM = credit_card_balance[['SK_ID_CURR','SK_ID_PREV']].groupby(['SK_ID_CURR']).nunique().rename(columns={'SK_ID_PREV':'CREDIT_NUM'})\n",
    "    # 不同状态的信用卡数\n",
    "    CREDIT_NUM_ACTIVE = credit_card_balance[credit_card_balance.NAME_CONTRACT_STATUS == 'Active'][['SK_ID_CURR','SK_ID_PREV']].groupby(['SK_ID_CURR']).nunique().rename(columns={'SK_ID_PREV':'CREDIT_NUM_ACTIVE'})\n",
    "    CREDIT_NUM_COMPLETED = credit_card_balance[credit_card_balance.NAME_CONTRACT_STATUS == 'Completed'][['SK_ID_CURR','SK_ID_PREV']].groupby(['SK_ID_CURR']).nunique().rename(columns={'SK_ID_PREV':'CREDIT_NUM_COMPLETED'})\n",
    "    CREDIT_NUM_SIGNED = credit_card_balance[credit_card_balance.NAME_CONTRACT_STATUS == 'Signed'][['SK_ID_CURR','SK_ID_PREV']].groupby(['SK_ID_CURR']).nunique().rename(columns={'SK_ID_PREV':'CREDIT_NUM_SIGNED'})\n",
    "    CREDIT_NUM_DEMAND = credit_card_balance[credit_card_balance.NAME_CONTRACT_STATUS == 'Demand'][['SK_ID_CURR','SK_ID_PREV']].groupby(['SK_ID_CURR']).nunique().rename(columns={'SK_ID_PREV':'CREDIT_NUM_DEMAND'})\n",
    "    CREDIT_NUM_SENT = credit_card_balance[credit_card_balance.NAME_CONTRACT_STATUS == 'Sent proposal'][['SK_ID_CURR','SK_ID_PREV']].groupby(['SK_ID_CURR']).nunique().rename(columns={'SK_ID_PREV':'CREDIT_NUM_SENT'})\n",
    "    CREDIT_NUM_REFUSED = credit_card_balance[credit_card_balance.NAME_CONTRACT_STATUS == 'Refused'][['SK_ID_CURR','SK_ID_PREV']].groupby(['SK_ID_CURR']).nunique().rename(columns={'SK_ID_PREV':'CREDIT_NUM_REFUSED'})\n",
    "    # 信用卡使用时长\n",
    "    tmp = credit_card_balance[['SK_ID_PREV','SK_ID_CURR','MONTHS_BALANCE']].groupby(['SK_ID_PREV','SK_ID_CURR'], as_index=False).count()\n",
    "    CREDIT_MONTHS_MAX = tmp[['SK_ID_CURR','MONTHS_BALANCE']].groupby('SK_ID_CURR').max().rename(columns={'MONTHS_BALANCE':'CREDIT_MONTHS_MAX'})\n",
    "    CREDIT_MONTHS_MIN = tmp[['SK_ID_CURR','MONTHS_BALANCE']].groupby('SK_ID_CURR').min().rename(columns={'MONTHS_BALANCE':'CREDIT_MONTHS_MIN'})\n",
    "    CREDIT_MONTHS_AVG = tmp[['SK_ID_CURR','MONTHS_BALANCE']].groupby('SK_ID_CURR').mean().rename(columns={'MONTHS_BALANCE':'CREDIT_MONTHS_AVG'})\n",
    "    CREDIT_MONTHS_SUM = tmp[['SK_ID_CURR','MONTHS_BALANCE']].groupby('SK_ID_CURR').sum().rename(columns={'MONTHS_BALANCE':'CREDIT_MONTHS_SUM'})\n",
    "    # 信用卡最近1 3 6 12 24 36 36+个月 月均余额\n",
    "    CREDIT_AMT_1m = credit_card_balance[credit_card_balance.MONTHS_BALANCE == -1][['SK_ID_CURR','AMT_BALANCE']].groupby(['SK_ID_CURR']).mean().rename(columns={'AMT_BALANCE':'CREDIT_AMT_1m'})\n",
    "    CREDIT_AMT_3m = credit_card_balance[credit_card_balance.MONTHS_BALANCE >= -3][['SK_ID_CURR','AMT_BALANCE']].groupby(['SK_ID_CURR']).mean().rename(columns={'AMT_BALANCE':'CREDIT_AMT_3m'})\n",
    "    CREDIT_AMT_6m = credit_card_balance[credit_card_balance.MONTHS_BALANCE >= -6][['SK_ID_CURR','AMT_BALANCE']].groupby(['SK_ID_CURR']).mean().rename(columns={'AMT_BALANCE':'CREDIT_AMT_6m'})\n",
    "    CREDIT_AMT_12m = credit_card_balance[credit_card_balance.MONTHS_BALANCE >= -12][['SK_ID_CURR','AMT_BALANCE']].groupby(['SK_ID_CURR']).mean().rename(columns={'AMT_BALANCE':'CREDIT_AMT_12m'})\n",
    "    CREDIT_AMT_24m = credit_card_balance[credit_card_balance.MONTHS_BALANCE >= -24][['SK_ID_CURR','AMT_BALANCE']].groupby(['SK_ID_CURR']).mean().rename(columns={'AMT_BALANCE':'CREDIT_AMT_24m'})\n",
    "    CREDIT_AMT_36m = credit_card_balance[credit_card_balance.MONTHS_BALANCE >= -36][['SK_ID_CURR','AMT_BALANCE']].groupby(['SK_ID_CURR']).mean().rename(columns={'AMT_BALANCE':'CREDIT_AMT_36m'})\n",
    "    CREDIT_AMT_36mplus = credit_card_balance[credit_card_balance.MONTHS_BALANCE < -36][['SK_ID_CURR','AMT_BALANCE']].groupby(['SK_ID_CURR']).mean().rename(columns={'AMT_BALANCE':'CREDIT_AMT_36mplus'})\n",
    "    # 信用卡最近1 3 6 12 24 36 36+个月取款金额\n",
    "    CREDIT_AMT_1m_CURRENT = credit_card_balance[credit_card_balance.MONTHS_BALANCE == -1][['SK_ID_CURR','AMT_DRAWINGS_CURRENT']].groupby(['SK_ID_CURR']).sum().rename(columns={'AMT_DRAWINGS_CURRENT':'CREDIT_AMT_1m_CURRENT'})\n",
    "    CREDIT_AMT_3m_CURRENT = credit_card_balance[credit_card_balance.MONTHS_BALANCE >= -3][['SK_ID_CURR','AMT_DRAWINGS_CURRENT']].groupby(['SK_ID_CURR']).sum().rename(columns={'AMT_DRAWINGS_CURRENT':'CREDIT_AMT_3m_CURRENT'})\n",
    "    CREDIT_AMT_6m_CURRENT = credit_card_balance[credit_card_balance.MONTHS_BALANCE >= -6][['SK_ID_CURR','AMT_DRAWINGS_CURRENT']].groupby(['SK_ID_CURR']).sum().rename(columns={'AMT_DRAWINGS_CURRENT':'CREDIT_AMT_6m_CURRENT'})\n",
    "    CREDIT_AMT_12m_CURRENT = credit_card_balance[credit_card_balance.MONTHS_BALANCE >= -12][['SK_ID_CURR','AMT_DRAWINGS_CURRENT']].groupby(['SK_ID_CURR']).sum().rename(columns={'AMT_DRAWINGS_CURRENT':'CREDIT_AMT_12m_CURRENT'})\n",
    "    CREDIT_AMT_24m_CURRENT = credit_card_balance[credit_card_balance.MONTHS_BALANCE >= -24][['SK_ID_CURR','AMT_DRAWINGS_CURRENT']].groupby(['SK_ID_CURR']).sum().rename(columns={'AMT_DRAWINGS_CURRENT':'CREDIT_AMT_24m_CURRENT'})\n",
    "    CREDIT_AMT_36m_CURRENT = credit_card_balance[credit_card_balance.MONTHS_BALANCE >= -36][['SK_ID_CURR','AMT_DRAWINGS_CURRENT']].groupby(['SK_ID_CURR']).sum().rename(columns={'AMT_DRAWINGS_CURRENT':'CREDIT_AMT_36m_CURRENT'})\n",
    "    CREDIT_AMT_36mplus_CURRENT = credit_card_balance[credit_card_balance.MONTHS_BALANCE < -36][['SK_ID_CURR','AMT_DRAWINGS_CURRENT']].groupby(['SK_ID_CURR']).sum().rename(columns={'AMT_DRAWINGS_CURRENT':'CREDIT_AMT_36mplus_CURRENT'})\n",
    "    # 信用卡最近1 3 6 12 24 36 36+个月POS金额\n",
    "    CREDIT_AMT_1m_POS = credit_card_balance[credit_card_balance.MONTHS_BALANCE == -1][['SK_ID_CURR','AMT_DRAWINGS_POS_CURRENT']].groupby(['SK_ID_CURR']).sum().rename(columns={'AMT_DRAWINGS_POS_CURRENT':'CREDIT_AMT_1m_POS'})\n",
    "    CREDIT_AMT_3m_POS = credit_card_balance[credit_card_balance.MONTHS_BALANCE >= -3][['SK_ID_CURR','AMT_DRAWINGS_POS_CURRENT']].groupby(['SK_ID_CURR']).sum().rename(columns={'AMT_DRAWINGS_POS_CURRENT':'CREDIT_AMT_3m_POS'})\n",
    "    CREDIT_AMT_6m_POS = credit_card_balance[credit_card_balance.MONTHS_BALANCE >= -6][['SK_ID_CURR','AMT_DRAWINGS_POS_CURRENT']].groupby(['SK_ID_CURR']).sum().rename(columns={'AMT_DRAWINGS_POS_CURRENT':'CREDIT_AMT_6m_POS'})\n",
    "    CREDIT_AMT_12m_POS = credit_card_balance[credit_card_balance.MONTHS_BALANCE >= -12][['SK_ID_CURR','AMT_DRAWINGS_POS_CURRENT']].groupby(['SK_ID_CURR']).sum().rename(columns={'AMT_DRAWINGS_POS_CURRENT':'CREDIT_AMT_12m_POS'})\n",
    "    CREDIT_AMT_24m_POS = credit_card_balance[credit_card_balance.MONTHS_BALANCE >= -24][['SK_ID_CURR','AMT_DRAWINGS_POS_CURRENT']].groupby(['SK_ID_CURR']).sum().rename(columns={'AMT_DRAWINGS_POS_CURRENT':'CREDIT_AMT_24m_POS'})\n",
    "    CREDIT_AMT_36m_POS = credit_card_balance[credit_card_balance.MONTHS_BALANCE >= -36][['SK_ID_CURR','AMT_DRAWINGS_POS_CURRENT']].groupby(['SK_ID_CURR']).sum().rename(columns={'AMT_DRAWINGS_POS_CURRENT':'CREDIT_AMT_36m_POS'})\n",
    "    CREDIT_AMT_36mplus_POS = credit_card_balance[credit_card_balance.MONTHS_BALANCE < -36][['SK_ID_CURR','AMT_DRAWINGS_POS_CURRENT']].groupby(['SK_ID_CURR']).sum().rename(columns={'AMT_DRAWINGS_POS_CURRENT':'CREDIT_AMT_36mplus_POS'})\n",
    "    # 信用卡最近1 3 6 12 24 36 36+个月ATM金额\n",
    "    CREDIT_AMT_1m_ATM = credit_card_balance[credit_card_balance.MONTHS_BALANCE == -1][['SK_ID_CURR','AMT_DRAWINGS_ATM_CURRENT']].groupby(['SK_ID_CURR']).sum().rename(columns={'AMT_DRAWINGS_ATM_CURRENT':'CREDIT_AMT_1m_ATM'})\n",
    "    CREDIT_AMT_3m_ATM = credit_card_balance[credit_card_balance.MONTHS_BALANCE >= -3][['SK_ID_CURR','AMT_DRAWINGS_ATM_CURRENT']].groupby(['SK_ID_CURR']).sum().rename(columns={'AMT_DRAWINGS_ATM_CURRENT':'CREDIT_AMT_3m_ATM'})\n",
    "    CREDIT_AMT_6m_ATM = credit_card_balance[credit_card_balance.MONTHS_BALANCE >= -6][['SK_ID_CURR','AMT_DRAWINGS_ATM_CURRENT']].groupby(['SK_ID_CURR']).sum().rename(columns={'AMT_DRAWINGS_ATM_CURRENT':'CREDIT_AMT_6m_ATM'})\n",
    "    CREDIT_AMT_12m_ATM = credit_card_balance[credit_card_balance.MONTHS_BALANCE >= -12][['SK_ID_CURR','AMT_DRAWINGS_ATM_CURRENT']].groupby(['SK_ID_CURR']).sum().rename(columns={'AMT_DRAWINGS_ATM_CURRENT':'CREDIT_AMT_12m_ATM'})\n",
    "    CREDIT_AMT_24m_ATM = credit_card_balance[credit_card_balance.MONTHS_BALANCE >= -24][['SK_ID_CURR','AMT_DRAWINGS_ATM_CURRENT']].groupby(['SK_ID_CURR']).sum().rename(columns={'AMT_DRAWINGS_ATM_CURRENT':'CREDIT_AMT_24m_ATM'})\n",
    "    CREDIT_AMT_36m_ATM = credit_card_balance[credit_card_balance.MONTHS_BALANCE >= -36][['SK_ID_CURR','AMT_DRAWINGS_ATM_CURRENT']].groupby(['SK_ID_CURR']).sum().rename(columns={'AMT_DRAWINGS_ATM_CURRENT':'CREDIT_AMT_36m_ATM'})\n",
    "    CREDIT_AMT_36mplus_ATM = credit_card_balance[credit_card_balance.MONTHS_BALANCE < -36][['SK_ID_CURR','AMT_DRAWINGS_ATM_CURRENT']].groupby(['SK_ID_CURR']).sum().rename(columns={'AMT_DRAWINGS_ATM_CURRENT':'CREDIT_AMT_36mplus_ATM'})\n",
    "    # 信用卡最大 最小 平均额度\n",
    "    CREDIT_LIMITAMT_MAX = credit_card_balance[credit_card_balance.NAME_CONTRACT_STATUS == 'Active'][['SK_ID_CURR','AMT_CREDIT_LIMIT_ACTUAL']].groupby(['SK_ID_CURR']).max().rename(columns={'AMT_CREDIT_LIMIT_ACTUAL':'CREDIT_LIMITAMT_MAX'})\n",
    "    CREDIT_LIMITAMT_MIN = credit_card_balance[credit_card_balance.NAME_CONTRACT_STATUS == 'Active'][['SK_ID_CURR','AMT_CREDIT_LIMIT_ACTUAL']].groupby(['SK_ID_CURR']).min().rename(columns={'AMT_CREDIT_LIMIT_ACTUAL':'CREDIT_LIMITAMT_MIN'})\n",
    "    # 信用卡最近6个月逾期0 7 14 30 90 90+天内的笔数\n",
    "    tmp = credit_card_balance[(credit_card_balance.MONTHS_BALANCE >= -6)][['SK_ID_PREV','SK_ID_CURR','SK_DPD_DEF']].groupby(['SK_ID_PREV','SK_ID_CURR'], as_index=False).max()\n",
    "    CREDIT_OVERDUENUM_6_0 = tmp[tmp.SK_DPD_DEF ==0][['SK_ID_PREV','SK_ID_CURR']].groupby(['SK_ID_CURR']).count().rename(columns={'SK_ID_PREV':' CREDIT_OVERDUENUM_6_0'})\n",
    "    CREDIT_OVERDUENUM_6_7 = tmp[(tmp.SK_DPD_DEF > 0) & (tmp.SK_DPD_DEF <= 7)][['SK_ID_PREV','SK_ID_CURR']].groupby(['SK_ID_CURR']).count().rename(columns={'SK_ID_PREV':' CREDIT_OVERDUENUM_6_7'})\n",
    "    CREDIT_OVERDUENUM_6_14 = tmp[(tmp.SK_DPD_DEF > 7) & (tmp.SK_DPD_DEF <= 14)][['SK_ID_PREV','SK_ID_CURR']].groupby(['SK_ID_CURR']).count().rename(columns={'SK_ID_PREV':' CREDIT_OVERDUENUM_6_14'})\n",
    "    CREDIT_OVERDUENUM_6_30 = tmp[(tmp.SK_DPD_DEF > 14) & (tmp.SK_DPD_DEF <= 30)][['SK_ID_PREV','SK_ID_CURR']].groupby(['SK_ID_CURR']).count().rename(columns={'SK_ID_PREV':' CREDIT_OVERDUENUM_6_30'})\n",
    "    CREDIT_OVERDUENUM_6_90 = tmp[(tmp.SK_DPD_DEF > 30) & (tmp.SK_DPD_DEF <= 90)][['SK_ID_PREV','SK_ID_CURR']].groupby(['SK_ID_CURR']).count().rename(columns={'SK_ID_PREV':' CREDIT_OVERDUENUM_6_90'})\n",
    "    CREDIT_OVERDUENUM_6_90plus = tmp[tmp.SK_DPD_DEF > 90][['SK_ID_PREV','SK_ID_CURR']].groupby(['SK_ID_CURR']).count().rename(columns={'SK_ID_PREV':' CREDIT_OVERDUENUM_6_90plus'})\n",
    "\n",
    "    # 信用卡最近7-12个月逾期0 7 14 30 90 90+天内的笔数\n",
    "    tmp = credit_card_balance[(credit_card_balance.MONTHS_BALANCE >= -12) & (credit_card_balance.MONTHS_BALANCE < -6)][['SK_ID_PREV','SK_ID_CURR','SK_DPD_DEF']].groupby(['SK_ID_PREV','SK_ID_CURR'], as_index=False).max()\n",
    "    CREDIT_OVERDUENUM_12_0 = tmp[tmp.SK_DPD_DEF ==0][['SK_ID_PREV','SK_ID_CURR']].groupby(['SK_ID_CURR']).count().rename(columns={'SK_ID_PREV':' CREDIT_OVERDUENUM_12_0'})\n",
    "    CREDIT_OVERDUENUM_12_7 = tmp[(tmp.SK_DPD_DEF > 0) & (tmp.SK_DPD_DEF <= 7)][['SK_ID_PREV','SK_ID_CURR']].groupby(['SK_ID_CURR']).count().rename(columns={'SK_ID_PREV':' CREDIT_OVERDUENUM_12_7'})\n",
    "    CREDIT_OVERDUENUM_12_14 = tmp[(tmp.SK_DPD_DEF > 7) & (tmp.SK_DPD_DEF <= 14)][['SK_ID_PREV','SK_ID_CURR']].groupby(['SK_ID_CURR']).count().rename(columns={'SK_ID_PREV':' CREDIT_OVERDUENUM_12_14'})\n",
    "    CREDIT_OVERDUENUM_12_30 = tmp[(tmp.SK_DPD_DEF > 14) & (tmp.SK_DPD_DEF <= 30)][['SK_ID_PREV','SK_ID_CURR']].groupby(['SK_ID_CURR']).count().rename(columns={'SK_ID_PREV':' CREDIT_OVERDUENUM_12_30'})\n",
    "    CREDIT_OVERDUENUM_12_90 = tmp[(tmp.SK_DPD_DEF > 30) & (tmp.SK_DPD_DEF <= 90)][['SK_ID_PREV','SK_ID_CURR']].groupby(['SK_ID_CURR']).count().rename(columns={'SK_ID_PREV':' CREDIT_OVERDUENUM_12_90'})\n",
    "    CREDIT_OVERDUENUM_12_90plus = tmp[tmp.SK_DPD_DEF > 90][['SK_ID_PREV','SK_ID_CURR']].groupby(['SK_ID_CURR']).count().rename(columns={'SK_ID_PREV':' CREDIT_OVERDUENUM_12_90plus'})\n",
    "\n",
    "    # 信用卡最近13-24个月逾期0 7 14 30 90 90+天内的笔数\n",
    "    tmp = credit_card_balance[(credit_card_balance.MONTHS_BALANCE >= -24) & (credit_card_balance.MONTHS_BALANCE < -12)][['SK_ID_PREV','SK_ID_CURR','SK_DPD_DEF']].groupby(['SK_ID_PREV','SK_ID_CURR'], as_index=False).max()\n",
    "    CREDIT_OVERDUENUM_24_0 = tmp[tmp.SK_DPD_DEF ==0][['SK_ID_PREV','SK_ID_CURR']].groupby(['SK_ID_CURR']).count().rename(columns={'SK_ID_PREV':' CREDIT_OVERDUENUM_24_0'})\n",
    "    CREDIT_OVERDUENUM_24_7 = tmp[(tmp.SK_DPD_DEF > 0) & (tmp.SK_DPD_DEF <= 7)][['SK_ID_PREV','SK_ID_CURR']].groupby(['SK_ID_CURR']).count().rename(columns={'SK_ID_PREV':' CREDIT_OVERDUENUM_24_7'})\n",
    "    CREDIT_OVERDUENUM_24_14 = tmp[(tmp.SK_DPD_DEF > 7) & (tmp.SK_DPD_DEF <= 14)][['SK_ID_PREV','SK_ID_CURR']].groupby(['SK_ID_CURR']).count().rename(columns={'SK_ID_PREV':' CREDIT_OVERDUENUM_24_14'})\n",
    "    CREDIT_OVERDUENUM_24_30 = tmp[(tmp.SK_DPD_DEF > 14) & (tmp.SK_DPD_DEF <= 30)][['SK_ID_PREV','SK_ID_CURR']].groupby(['SK_ID_CURR']).count().rename(columns={'SK_ID_PREV':' CREDIT_OVERDUENUM_24_30'})\n",
    "    CREDIT_OVERDUENUM_24_90 = tmp[(tmp.SK_DPD_DEF > 30) & (tmp.SK_DPD_DEF <= 90)][['SK_ID_PREV','SK_ID_CURR']].groupby(['SK_ID_CURR']).count().rename(columns={'SK_ID_PREV':' CREDIT_OVERDUENUM_24_90'})\n",
    "    CREDIT_OVERDUENUM_24_90plus = tmp[tmp.SK_DPD_DEF > 90][['SK_ID_PREV','SK_ID_CURR']].groupby(['SK_ID_CURR']).count().rename(columns={'SK_ID_PREV':' CREDIT_OVERDUENUM_24_90plus'})\n",
    "\n",
    "    # 信用卡最近24-36个月逾期0 7 14 30 90 90+天内的笔数\n",
    "    tmp = credit_card_balance[(credit_card_balance.MONTHS_BALANCE >= -36) & (credit_card_balance.MONTHS_BALANCE < -24)][['SK_ID_PREV','SK_ID_CURR','SK_DPD_DEF']].groupby(['SK_ID_PREV','SK_ID_CURR'], as_index=False).max()\n",
    "    CREDIT_OVERDUENUM_36_0 = tmp[tmp.SK_DPD_DEF ==0][['SK_ID_PREV','SK_ID_CURR']].groupby(['SK_ID_CURR']).count().rename(columns={'SK_ID_PREV':' CREDIT_OVERDUENUM_36_0'})\n",
    "    CREDIT_OVERDUENUM_36_7 = tmp[(tmp.SK_DPD_DEF > 0) & (tmp.SK_DPD_DEF <= 7)][['SK_ID_PREV','SK_ID_CURR']].groupby(['SK_ID_CURR']).count().rename(columns={'SK_ID_PREV':' CREDIT_OVERDUENUM_36_7'})\n",
    "    CREDIT_OVERDUENUM_36_14 = tmp[(tmp.SK_DPD_DEF > 7) & (tmp.SK_DPD_DEF <= 14)][['SK_ID_PREV','SK_ID_CURR']].groupby(['SK_ID_CURR']).count().rename(columns={'SK_ID_PREV':' CREDIT_OVERDUENUM_36_14'})\n",
    "    CREDIT_OVERDUENUM_36_30 = tmp[(tmp.SK_DPD_DEF > 14) & (tmp.SK_DPD_DEF <= 30)][['SK_ID_PREV','SK_ID_CURR']].groupby(['SK_ID_CURR']).count().rename(columns={'SK_ID_PREV':' CREDIT_OVERDUENUM_36_30'})\n",
    "    CREDIT_OVERDUENUM_36_90 = tmp[(tmp.SK_DPD_DEF > 30) & (tmp.SK_DPD_DEF <= 90)][['SK_ID_PREV','SK_ID_CURR']].groupby(['SK_ID_CURR']).count().rename(columns={'SK_ID_PREV':' CREDIT_OVERDUENUM_36_90'})\n",
    "    CREDIT_OVERDUENUM_36_90plus = tmp[tmp.SK_DPD_DEF > 90][['SK_ID_PREV','SK_ID_CURR']].groupby(['SK_ID_CURR']).count().rename(columns={'SK_ID_PREV':' CREDIT_OVERDUENUM_36_90plus'})\n",
    "\n",
    "    # 信用卡最近36以上个月逾期0 7 14 30 90 90+天内的笔数\n",
    "    tmp = credit_card_balance[credit_card_balance.MONTHS_BALANCE < -36][['SK_ID_PREV','SK_ID_CURR','SK_DPD_DEF']].groupby(['SK_ID_PREV','SK_ID_CURR'], as_index=False).max()\n",
    "    CREDIT_OVERDUENUM_36plus_0 = tmp[tmp.SK_DPD_DEF ==0][['SK_ID_PREV','SK_ID_CURR']].groupby(['SK_ID_CURR']).count().rename(columns={'SK_ID_PREV':' CREDIT_OVERDUENUM_36plus_0'})\n",
    "    CREDIT_OVERDUENUM_36plus_7 = tmp[(tmp.SK_DPD_DEF > 0) & (tmp.SK_DPD_DEF <= 7)][['SK_ID_PREV','SK_ID_CURR']].groupby(['SK_ID_CURR']).count().rename(columns={'SK_ID_PREV':' CREDIT_OVERDUENUM_36plus_7'})\n",
    "    CREDIT_OVERDUENUM_36plus_14 = tmp[(tmp.SK_DPD_DEF > 7) & (tmp.SK_DPD_DEF <= 14)][['SK_ID_PREV','SK_ID_CURR']].groupby(['SK_ID_CURR']).count().rename(columns={'SK_ID_PREV':' CREDIT_OVERDUENUM_36plus_14'})\n",
    "    CREDIT_OVERDUENUM_36plus_30 = tmp[(tmp.SK_DPD_DEF > 14) & (tmp.SK_DPD_DEF <= 30)][['SK_ID_PREV','SK_ID_CURR']].groupby(['SK_ID_CURR']).count().rename(columns={'SK_ID_PREV':' CREDIT_OVERDUENUM_36plus_30'})\n",
    "    CREDIT_OVERDUENUM_36plus_90 = tmp[(tmp.SK_DPD_DEF > 30) & (tmp.SK_DPD_DEF <= 90)][['SK_ID_PREV','SK_ID_CURR']].groupby(['SK_ID_CURR']).count().rename(columns={'SK_ID_PREV':' CREDIT_OVERDUENUM_36plus_90'})\n",
    "    CREDIT_OVERDUENUM_36plus_90plus = tmp[tmp.SK_DPD_DEF > 90][['SK_ID_PREV','SK_ID_CURR']].groupby(['SK_ID_CURR']).count().rename(columns={'SK_ID_PREV':' CREDIT_OVERDUENUM_36plus_90plus'})\n",
    "\n",
    "    # 信用卡当前仍在逾期的笔数 最大逾期天数\n",
    "    # CREDIT_NUM_OVERDUE_STILL = credit_card_balance[(credit_card_balance.MONTHS_BALANCE == -1) & (credit_card_balance.SK_DPD_DEF > 30)][['SK_ID_CURR','SK_ID_PREV']].groupby(['SK_ID_CURR']).count().rename(columns={'SK_ID_PREV':'CREDIT_NUM_OVERDUE_STILL'})\n",
    "    # CREDIT_DAYS_MAXOVERDUE_STILL = credit_card_balance[(credit_card_balance.MONTHS_BALANCE == -1) & (credit_card_balance.SK_DPD_DEF > 30)][['SK_ID_CURR','SK_DPD_DEF']].groupby(['SK_ID_CURR']).max().rename(columns={'SK_DPD_DEF':'CREDIT_DAYS_MAXOVERDUE_STILL'})\n",
    "\n",
    "    del credit_card_balance,tmp\n",
    "    all_vars = locals()\n",
    "    credit_extra = concat_df_by_name('CREDIT',all_vars)\n",
    "    print(credit_extra.shape)\n",
    "    return credit_extra"
   ]
  },
  {
   "cell_type": "code",
   "execution_count": 56,
   "id": "e5f7571c",
   "metadata": {},
   "outputs": [],
   "source": [
    "bureau_extra = process_bureau()\n",
    "bureau_balance_extra = process_bureau_balance()\n",
    "pre_extra = process_pre()\n",
    "pos_extra = process_pos()\n",
    "inst_extra = process_inst()\n",
    "credit_extra = process_credit_balance()"
   ]
  },
  {
   "cell_type": "code",
   "execution_count": 57,
   "id": "801c078f",
   "metadata": {},
   "outputs": [],
   "source": [
    "extra_info = [ bureau_extra, bureau_balance_extra, pre_extra, pos_extra, inst_extra, credit_extra ]"
   ]
  },
  {
   "cell_type": "code",
   "execution_count": 58,
   "id": "f9354acd",
   "metadata": {},
   "outputs": [],
   "source": [
    "def merge_info(df,ls):\n",
    "    print('合并前shape:{}'.format(df.shape))\n",
    "    res = df.set_index('SK_ID_CURR')\n",
    "    for extra in ls:\n",
    "        res = pd.merge(res, extra, how = 'left', left_index=True, right_index=True)\n",
    "        del extra\n",
    "    print('合并后shape:{}'.format(res.shape))\n",
    "    return res"
   ]
  },
  {
   "cell_type": "code",
   "execution_count": 59,
   "id": "34c3b548",
   "metadata": {},
   "outputs": [],
   "source": [
    "app = train_set.copy().drop('TARGET', axis=1)\n",
    "app_labels = train_set['TARGET'].copy()"
   ]
  },
  {
   "cell_type": "code",
   "execution_count": 60,
   "id": "83fa3075",
   "metadata": {},
   "outputs": [],
   "source": [
    "app_extra = merge_info(app, extra_info)"
   ]
  },
  {
   "cell_type": "markdown",
   "id": "59b1b438",
   "metadata": {},
   "source": [
    "### train again"
   ]
  },
  {
   "cell_type": "code",
   "execution_count": 49,
   "id": "1b86a1e1",
   "metadata": {},
   "outputs": [],
   "source": [
    "# # 筛选特征\n",
    "# cate_cols_extra = []\n",
    "# num_cols_extra = []\n",
    "# # 将类别属性放进去\n",
    "# cate_cols_extra.extend(app_extra.dtypes[app_extra.dtypes == 'object'].index.tolist())\n",
    "# # 将唯一值少于5个的数值型变量也放进去\n",
    "# cate_cols_extra.extend(select_low_cardinality_numeric_features(app_extra, 'TARGET'))\n",
    "# num_cols_extra.extend(app_extra.columns.difference(cate_cols_extra))\n",
    "# cat_cols_extra_object = app_extra[cate_cols_extra].select_dtypes(include=['object']).columns\n",
    "# cat_cols_extra_number = app_extra[cate_cols_extra].select_dtypes(include=['number']).columns"
   ]
  },
  {
   "cell_type": "code",
   "execution_count": 53,
   "id": "a7eaac6d",
   "metadata": {},
   "outputs": [],
   "source": [
    "# num_pipeline2 = make_pipeline(\n",
    "#                 SimpleImputer(strategy='median'),\n",
    "#                 StandardScaler()\n",
    "#                 )\n",
    "# cat_number_pipeline2 = make_pipeline(\n",
    "#                 FunctionTransformer(lambda X: X.astype(str),feature_names_out='one-to-one'),\n",
    "#                 SimpleImputer(strategy='constant', fill_value='UKN'),\n",
    "#                 OneHotEncoder(handle_unknown='ignore')\n",
    "# )\n",
    "# cat_object_pipeline2 = make_pipeline(\n",
    "#                 SimpleImputer(strategy='constant', fill_value='UKN'),\n",
    "#                 OneHotEncoder(handle_unknown='ignore')\n",
    "# )\n",
    "# processing2 = ColumnTransformer([\n",
    "#     ('num', num_pipeline2, num_cols_extra),\n",
    "#     ('cate_object',cat_object_pipeline2,cat_cols_extra_object),\n",
    "#     ('cate_number', cat_number_pipeline2, cat_cols_extra_number)\n",
    "# ], remainder='passthrough')"
   ]
  },
  {
   "cell_type": "code",
   "execution_count": 67,
   "id": "ea8cdd7a",
   "metadata": {},
   "outputs": [
    {
     "data": {
      "text/plain": [
       "(246008, 844)"
      ]
     },
     "execution_count": 67,
     "metadata": {},
     "output_type": "execute_result"
    }
   ],
   "source": [
    "# app_transform2 = processing2.fit_transform(app_extra)\n",
    "# app_transform2.shape\n",
    "# app_transformed2 = pd.DataFrame(app_transform2, columns=processing2.get_feature_names_out())"
   ]
  },
  {
   "cell_type": "code",
   "execution_count": 74,
   "id": "52f9b39e",
   "metadata": {},
   "outputs": [],
   "source": [
    "# X_train, X_test, y_train, y_test = train_test_split(app_transformed2, app_labels,\n",
    "#                                                     train_size=0.01, test_size=0.99)\n",
    "\n",
    "# from tpot import TPOTRegressor\n",
    "# # 初始化TPOTRegressor\n",
    "# tpot = TPOTRegressor(\n",
    "#     generations=50,\n",
    "#     population_size=50,\n",
    "#     offspring_size=50,\n",
    "#     verbosity=2,\n",
    "#     scoring='roc_auc',\n",
    "#     max_time_mins=30,\n",
    "#     n_jobs=-1,\n",
    "#     random_state=42,\n",
    "#     config_dict='TPOT light'\n",
    "# )\n",
    "# # 使用TPOTRegressor进行自动化机器学习\n",
    "# tpot.fit(X_train, y_train)\n",
    "# print(tpot.score(X_test, y_test))"
   ]
  },
  {
   "cell_type": "code",
   "execution_count": 55,
   "id": "310a244a",
   "metadata": {},
   "outputs": [],
   "source": [
    "# lr2 = LinearRegression()\n",
    "# sgd2 = SGDRegressor()\n",
    "# tree2 = DecisionTreeRegressor()\n",
    "# gnb2 = GaussianNB()\n",
    "# nn2 = MLPRegressor()\n",
    "# models2 = [lr2, sgd2, tree2, gnb2, nn2]"
   ]
  },
  {
   "cell_type": "code",
   "execution_count": 56,
   "id": "f1f5a190",
   "metadata": {
    "scrolled": true
   },
   "outputs": [],
   "source": [
    "# cross_validate_with_feature_importance(models2, app_transformed2, app_labels)\n",
    "# del app,app_labels,app_transform2,app_transformed2"
   ]
  },
  {
   "cell_type": "markdown",
   "id": "79a76b48",
   "metadata": {},
   "source": [
    "我们在上面加入了很多经验特征，并继续用粗糙的模型跑一遍，LR：0.765 NN：0.75，接下来我将对特征做一些变换，并加入交互特征"
   ]
  },
  {
   "cell_type": "markdown",
   "id": "0fe6f533",
   "metadata": {},
   "source": [
    "## feature transform and add ploy feature"
   ]
  },
  {
   "cell_type": "code",
   "execution_count": 61,
   "id": "f79d6cfb",
   "metadata": {},
   "outputs": [],
   "source": [
    "from itertools import combinations\n",
    "\n",
    "def generate_ratio_features(train_features, label, n):\n",
    "    \"\"\"\n",
    "    将特征数据集任意两列相除，生成交互特征，并选择最好的n个特征\n",
    "    :param train_features: 训练集特征数据集（DataFrame）\n",
    "    :param label: 训练集标签列（Series）\n",
    "    :param n: 要保留的新交互特征数\n",
    "    :return: 选择最好的n个新交互特征\n",
    "    \"\"\"\n",
    "    # 生成所有特征的组合\n",
    "    features_combinations = list(combinations(train_features.columns, 2))\n",
    "    features_combinations = [(a, b) if a < b else (b, a) for a, b in features_combinations]\n",
    "    features_combinations = list(set(features_combinations))\n",
    "    \n",
    "    # 逐个生成交互特征并选择最好的n个特征\n",
    "    top_ratio_features = pd.DataFrame()\n",
    "    for i in range(0, len(features_combinations), 100):\n",
    "        start_idx = i\n",
    "        end_idx = min(i + 100, len(features_combinations))\n",
    "        ratio_features = pd.DataFrame()\n",
    "        for feature_pair in features_combinations[start_idx:end_idx]:\n",
    "            numerator, denominator = feature_pair\n",
    "            ratio_feature_name = '{}_div_{}'.format(numerator.replace(\"_\", \"\"), denominator.replace(\"_\", \"\"))\n",
    "            if ratio_feature_name in ratio_features.columns:\n",
    "                continue\n",
    "            ratio_features[ratio_feature_name] = train_features[numerator] / train_features[denominator]\n",
    "        ratio_features_merged = pd.concat([top_ratio_features, ratio_features], axis=1)\n",
    "        top_features = evaluate_features(ratio_features_merged, label, n)\n",
    "        top_ratio_features = ratio_features_merged[top_features]\n",
    "    return top_ratio_features.columns\n",
    "\n",
    "def evaluate_features(df, label, n):\n",
    "    \"\"\"\n",
    "    对新生成的特征进行评估，挑选最好的n个\n",
    "    \"\"\"\n",
    "    # Replace missing values with the median value of each column\n",
    "    df.replace([np.inf, -np.inf], np.nan, inplace=True)\n",
    "    for col in df.columns:\n",
    "        median_value = df[col].median()\n",
    "        df[col].fillna(median_value,inplace=True)\n",
    "\n",
    "    # Scale the features\n",
    "    scaler = StandardScaler()\n",
    "    scaled_df = scaler.fit_transform(df)\n",
    "\n",
    "    # Replace missing values with 0 after scaling\n",
    "    scaled_df = np.nan_to_num(scaled_df)\n",
    "\n",
    "    # Fit the decision tree regressor\n",
    "    clf = DecisionTreeRegressor(random_state=0)\n",
    "    clf.fit(scaled_df, label)\n",
    "\n",
    "    feature_importance = pd.Series(clf.feature_importances_, index=df.columns)\n",
    "    top_features = feature_importance.sort_values(ascending=False)[:n]\n",
    "    return top_features.index.values"
   ]
  },
  {
   "cell_type": "markdown",
   "id": "2ccc7ea2",
   "metadata": {},
   "source": [
    "**时间相关的变量**"
   ]
  },
  {
   "cell_type": "code",
   "execution_count": 62,
   "id": "b8db7ee8",
   "metadata": {},
   "outputs": [],
   "source": [
    "days_cols = []\n",
    "for col in app_extra.columns:\n",
    "    if 'DAYS' in col:\n",
    "        days_cols.append(col)\n",
    "app_extra[days_cols].describe()"
   ]
  },
  {
   "cell_type": "code",
   "execution_count": 63,
   "id": "30df6434",
   "metadata": {},
   "outputs": [],
   "source": [
    "days_inter_list = generate_ratio_features(app_extra[days_cols],app_labels,5).tolist()"
   ]
  },
  {
   "cell_type": "markdown",
   "id": "3f969a4e",
   "metadata": {},
   "source": [
    "the output looks like 'DAYSBIRTH_div_DAYSEMPLOYED'"
   ]
  },
  {
   "cell_type": "markdown",
   "id": "b0d18fa7",
   "metadata": {},
   "source": [
    "**金额相关的变量**"
   ]
  },
  {
   "cell_type": "code",
   "execution_count": 64,
   "id": "ae238512",
   "metadata": {},
   "outputs": [],
   "source": [
    "amt_cols = []\n",
    "for col in app_extra.columns:\n",
    "    if 'AMT' in col and 'AMT_REQ' not in col:\n",
    "        amt_cols.append(col)\n",
    "app_extra[amt_cols].describe()"
   ]
  },
  {
   "cell_type": "code",
   "execution_count": 65,
   "id": "afbdfe74",
   "metadata": {},
   "outputs": [],
   "source": [
    "amt_inter_list = generate_ratio_features(app_extra[amt_cols],app_labels,15).tolist()"
   ]
  },
  {
   "cell_type": "markdown",
   "id": "e091b6d0",
   "metadata": {},
   "source": [
    "**次数相关变量**"
   ]
  },
  {
   "cell_type": "code",
   "execution_count": 66,
   "id": "2f2634b9",
   "metadata": {},
   "outputs": [],
   "source": [
    "num_cols = []\n",
    "for col in app_extra.columns:\n",
    "    if 'NUM' in col:\n",
    "        num_cols.append(col)\n",
    "app_extra[num_cols].describe()"
   ]
  },
  {
   "cell_type": "code",
   "execution_count": 67,
   "id": "d8605977",
   "metadata": {},
   "outputs": [],
   "source": [
    "num_inter_list = generate_ratio_features(app_extra[num_cols],app_labels,15).tolist()"
   ]
  },
  {
   "cell_type": "markdown",
   "id": "2c642322",
   "metadata": {},
   "source": [
    "**其他变量**"
   ]
  },
  {
   "cell_type": "code",
   "execution_count": 68,
   "id": "7cdb1e7a",
   "metadata": {},
   "outputs": [],
   "source": [
    "other_clos = []\n",
    "tmp = days_cols + amt_cols + num_cols\n",
    "for col in app.columns:\n",
    "    if col not in tmp:\n",
    "        other_clos.append(col)\n",
    "other_clos.remove('SK_ID_CURR')\n",
    "app_extra[other_clos].describe()"
   ]
  },
  {
   "cell_type": "code",
   "execution_count": 69,
   "id": "ffd84017",
   "metadata": {},
   "outputs": [],
   "source": [
    "# selected_inter_feature = ['DAYSBIRTH_div_DAYSEMPLOYED', 'DAYSBIRTH_div_DAYSIDPUBLISH',\n",
    "# 'DAYSEMPLOYED_div_DAYSREGISTRATION', 'DAYSBIRTH_div_DAYSREGISTRATION','DAYSEMPLOYED_div_DAYSIDPUBLISH',\n",
    "# 'AMTANNUITY_div_AMTCREDIT', 'AMTANNUITY_div_AMTGOODSPRICE',\n",
    "# 'PRECREDITANNUITYAMT_div_PRECREDITApprovedAMT',\n",
    "# 'AMTANNUITY_div_PRECREDITApprovedANNUITYAMT',\n",
    "# 'PRECREDITAMT_div_PRECREDITANNUITYAMT',\n",
    "# 'BUREAUDEBTAMT_div_BUREAULOANAMT', 'AMTCREDIT_div_PRECREDITApprovedAMT',\n",
    "# 'PRECREDITPOSAMT_div_PRECREDITPOSANNUITYAMT',\n",
    "# 'AMTINCOMETOTAL_div_PRECREDITPOSANNUITYAMT',\n",
    "# 'AMTANNUITY_div_BUREAUAMTCONSUMER', 'AMTANNUITY_div_AMTINCOMETOTAL',\n",
    "# 'AMTINCOMETOTAL_div_PRECREDITPOSAMT',\n",
    "# 'AMTINCOMETOTAL_div_BUREAULOANAMT',\n",
    "# 'AMTINCOMETOTAL_div_PRECREDITApprovedAMT',\n",
    "# 'AMTCREDIT_div_AMTINCOMETOTAL',\n",
    "# 'BUREAUNUMCONSUMER_div_PRECREDITNUM', 'BUREAUNUM_div_POSFINISHNUM',\n",
    "# 'BUREAUNUM_div_PRECREDITNUM', 'BUREAUNUM_div_PRECREDITPOSNUM',\n",
    "# 'POSOVERDUENUM120_div_PRECREDITNUM',\n",
    "# 'INSTNUM36mplus7d_div_PRECREDITCASHNUM',\n",
    "# 'BUREAUACTIVENUM_div_BUREAUNUMCARD',\n",
    "# 'POSOVERDUENUM240_div_PRECREDITNUM', 'BUREAUNUMNORMAL_div_PRECREDITNUM',\n",
    "# 'BUREAUNUM_div_BUREAUNUMDELAY', 'INSTNUM36m_div_INSTNUM36mplus90dplus',\n",
    "# 'PRECREDITApprovedNUM_div_PRECREDITPOSNUM',\n",
    "# 'PRECREDITNUM_div_PRECREDITXNANUM',\n",
    "# 'BUREAUOVERDUENUM120_div_PRECREDITNUM', 'BUREAUClosedNUM_div_INSTNUM'\n",
    "#                          ]\n",
    "selected_inter_feature = days_inter_list + amt_inter_list + num_inter_list\n",
    "def gen_inter_feature(df, features):\n",
    "    dic = {}\n",
    "    for col in df.columns:\n",
    "        dic[col] = col.replace('_','')\n",
    "    df.rename(columns = dic, inplace=True)\n",
    "    \n",
    "    result = pd.DataFrame()\n",
    "    for feature in features:\n",
    "        numerator, denominator = feature.split('_div_')\n",
    "        result[feature] = df[numerator] / df[denominator]\n",
    "    res = pd.concat([df, result], axis=1)\n",
    "    return res"
   ]
  },
  {
   "cell_type": "code",
   "execution_count": 75,
   "id": "2cb6836c",
   "metadata": {},
   "outputs": [],
   "source": [
    "print(selected_inter_feature)"
   ]
  },
  {
   "cell_type": "code",
   "execution_count": 70,
   "id": "82459287",
   "metadata": {},
   "outputs": [],
   "source": [
    "gen_inter_feature(app_extra, selected_inter_feature).replace([np.inf, -np.inf], 0).describe()"
   ]
  },
  {
   "cell_type": "code",
   "execution_count": 71,
   "id": "6f11b7d2",
   "metadata": {},
   "outputs": [],
   "source": [
    "app_extra_add = gen_inter_featureter_fapp_extra(app_extra, selected_inter_feature)"
   ]
  },
  {
   "cell_type": "code",
   "execution_count": 74,
   "id": "87182558",
   "metadata": {},
   "outputs": [],
   "source": [
    "app_extra_add.head()"
   ]
  },
  {
   "cell_type": "markdown",
   "id": "6aaef0a0",
   "metadata": {},
   "source": [
    "### train again"
   ]
  },
  {
   "cell_type": "code",
   "execution_count": null,
   "id": "aa03ee9f",
   "metadata": {},
   "outputs": [],
   "source": [
    "# 筛选特征\n",
    "cate_cols = []\n",
    "num_cols = []\n",
    "# 将类别属性放进去\n",
    "cate_cols.extend(app_extra_add.dtypes[app_extra_add.dtypes == 'object'].index.tolist())\n",
    "# 将唯一值少于5个的数值型变量也放进去\n",
    "cate_cols.extend(select_low_cardinality_numeric_features(app_extra_add, 'TARGET'))\n",
    "num_cols.extend(app_extra_add.columns.difference(cate_cols))\n",
    "cat_cols_object = app_extra_add[cate_cols].select_dtypes(include=['object']).columns\n",
    "cat_cols_number = app_extra_add[cate_cols].select_dtypes(include=['number']).columns\n",
    "\n",
    "num_pipeline3 = make_pipeline(\n",
    "                SimpleImputer(strategy='median'),\n",
    "                StandardScaler()\n",
    "                )\n",
    "cat_number_pipeline3 = make_pipeline(\n",
    "                FunctionTransformer(lambda X: X.astype(str),feature_names_out='one-to-one'),\n",
    "                SimpleImputer(strategy='constant', fill_value='UKN'),\n",
    "                OneHotEncoder(handle_unknown='ignore')\n",
    ")\n",
    "cat_object_pipeline3 = make_pipeline(\n",
    "                SimpleImputer(strategy='constant', fill_value='UKN'),\n",
    "                OneHotEncoder(handle_unknown='ignore')\n",
    ")\n",
    "processing3 = ColumnTransformer([\n",
    "    ('num', num_pipeline3, num_cols),\n",
    "    ('cate_object',cat_object_pipeline3,cat_cols_object),\n",
    "    ('cate_number', cat_number_pipeline3, cat_cols_number)\n",
    "], remainder='passthrough')\n",
    "\n",
    "app_transform3 = processing3.fit_transform(app_extra_add)\n",
    "app_transform3.shape\n",
    "app_transformed3 = pd.DataFrame(app_transform3, columns=processing3.get_feature_names_out())\n",
    "\n",
    "lr3 = LinearRegression()\n",
    "sgd3 = SGDRegressor()\n",
    "tree3 = DecisionTreeRegressor()\n",
    "gnb3 = GaussianNB()\n",
    "nn3 = MLPRegressor()\n",
    "models3 = [lr3, sgd3, tree3, gnb3, nn3]\n",
    "\n",
    "cross_validate_with_feature_importance(models3, app_transformed3, app_labels)\n",
    "del app_transform3,app_transformed3"
   ]
  },
  {
   "cell_type": "markdown",
   "id": "6e87324d",
   "metadata": {},
   "source": [
    "## delete invaild feature"
   ]
  },
  {
   "cell_type": "markdown",
   "id": "2a79ed30",
   "metadata": {},
   "source": [
    "## try more model and fine tune"
   ]
  },
  {
   "cell_type": "markdown",
   "id": "1fc4bfff",
   "metadata": {},
   "source": [
    "## Evaluate model on test set"
   ]
  },
  {
   "cell_type": "markdown",
   "id": "15a05b84",
   "metadata": {},
   "source": [
    "## submit result"
   ]
  },
  {
   "cell_type": "code",
   "execution_count": null,
   "id": "5712b1cc",
   "metadata": {},
   "outputs": [],
   "source": []
  }
 ],
 "metadata": {
  "kernelspec": {
   "display_name": "Python 3 (ipykernel)",
   "language": "python",
   "name": "python3"
  },
  "language_info": {
   "codemirror_mode": {
    "name": "ipython",
    "version": 3
   },
   "file_extension": ".py",
   "mimetype": "text/x-python",
   "name": "python",
   "nbconvert_exporter": "python",
   "pygments_lexer": "ipython3",
   "version": "3.9.16"
  },
  "toc": {
   "base_numbering": 1,
   "nav_menu": {},
   "number_sections": true,
   "sideBar": true,
   "skip_h1_title": false,
   "title_cell": "Table of Contents",
   "title_sidebar": "Contents",
   "toc_cell": false,
   "toc_position": {},
   "toc_section_display": true,
   "toc_window_display": false
  }
 },
 "nbformat": 4,
 "nbformat_minor": 5
}
